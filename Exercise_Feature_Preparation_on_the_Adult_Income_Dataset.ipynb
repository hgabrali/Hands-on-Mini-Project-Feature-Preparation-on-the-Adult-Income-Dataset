{
  "nbformat": 4,
  "nbformat_minor": 0,
  "metadata": {
    "colab": {
      "provenance": [],
      "authorship_tag": "ABX9TyMPFSaT8OER674CFzPN/Vkr",
      "include_colab_link": true
    },
    "kernelspec": {
      "name": "python3",
      "display_name": "Python 3"
    },
    "language_info": {
      "name": "python"
    }
  },
  "cells": [
    {
      "cell_type": "markdown",
      "metadata": {
        "id": "view-in-github",
        "colab_type": "text"
      },
      "source": [
        "<a href=\"https://colab.research.google.com/github/hgabrali/Hands-on-Mini-Project-Feature-Preparation-on-the-Adult-Income-Dataset/blob/main/Exercise_Feature_Preparation_on_the_Adult_Income_Dataset.ipynb\" target=\"_parent\"><img src=\"https://colab.research.google.com/assets/colab-badge.svg\" alt=\"Open In Colab\"/></a>"
      ]
    },
    {
      "cell_type": "markdown",
      "source": [
        "# 📚 Week 1: Intro to Machine Learning & Data Preparation 🛠️\n",
        "\n",
        "[MS Materials: Features Preparation](https://colab.research.google.com/drive/1XZskClkoO2iTmbz3fc__isJf59jSSvtb)\n",
        "\n",
        "\n",
        "[Hands-on-Mini-Project-Feature-Preparation-on-the-Adult-Income-Dataset](https://github.com/hgabrali/Hands-on-Mini-Project-Feature-Preparation-on-the-Adult-Income-Dataset/tree/main)\n",
        "\n",
        "## Exercise: Feature Preparation on the Adult Income Dataset 💰\n",
        "\n",
        "We'll now practice everything we've learned (Steps 1–5) on a new dataset: **The UCI Adult Income Dataset (Census Income)**.\n",
        "\n",
        "**Goal:** Predict whether a person earns **>50K** or **<=50K** per year.\n",
        "\n",
        "## About the Dataset\n",
        "\n",
        "* **Size:** ~32,000 rows, 15 columns.\n",
        "* **Target column:** `income` ( **>50K** or **<=50K** ).\n",
        "* Missing values are represented by **\" ?\"** so we will replace them with null values as we read the dataset.\n",
        "\n",
        "Here is how to load the data:\n",
        "\n",
        "[\"Census Income\" dataset](https://archive.ics.uci.edu/dataset/2/adult)"
      ],
      "metadata": {
        "id": "wCLuESbCkFiL"
      }
    },
    {
      "cell_type": "code",
      "source": [
        "# Import Libraries\n",
        "import pandas as pd\n",
        "import numpy as np\n",
        "import seaborn as sns\n",
        "import matplotlib.pyplot as plt\n",
        "import matplotlib.patches as patches\n",
        "import matplotlib.ticker as mtick\n",
        "import matplotlib.lines as lines\n",
        "import matplotlib.image as mpimg\n",
        "import matplotlib.colors as mcolors\n",
        "from sklearn.preprocessing import OneHotEncoder\n",
        "from sklearn.preprocessing import StandardScaler, MinMaxScaler\n",
        "\n",
        "\n",
        "import warnings\n",
        "warnings.filterwarnings('ignore')"
      ],
      "metadata": {
        "id": "TUO3Rprvvm-t"
      },
      "execution_count": 32,
      "outputs": []
    },
    {
      "cell_type": "code",
      "source": [
        "pip install ucimlrepo"
      ],
      "metadata": {
        "colab": {
          "base_uri": "https://localhost:8080/"
        },
        "id": "ydjv-YSLmP3m",
        "outputId": "53d94af3-073a-430b-9c47-769229e27811"
      },
      "execution_count": 4,
      "outputs": [
        {
          "output_type": "stream",
          "name": "stdout",
          "text": [
            "Collecting ucimlrepo\n",
            "  Downloading ucimlrepo-0.0.7-py3-none-any.whl.metadata (5.5 kB)\n",
            "Requirement already satisfied: pandas>=1.0.0 in /usr/local/lib/python3.12/dist-packages (from ucimlrepo) (2.2.2)\n",
            "Requirement already satisfied: certifi>=2020.12.5 in /usr/local/lib/python3.12/dist-packages (from ucimlrepo) (2025.8.3)\n",
            "Requirement already satisfied: numpy>=1.26.0 in /usr/local/lib/python3.12/dist-packages (from pandas>=1.0.0->ucimlrepo) (2.0.2)\n",
            "Requirement already satisfied: python-dateutil>=2.8.2 in /usr/local/lib/python3.12/dist-packages (from pandas>=1.0.0->ucimlrepo) (2.9.0.post0)\n",
            "Requirement already satisfied: pytz>=2020.1 in /usr/local/lib/python3.12/dist-packages (from pandas>=1.0.0->ucimlrepo) (2025.2)\n",
            "Requirement already satisfied: tzdata>=2022.7 in /usr/local/lib/python3.12/dist-packages (from pandas>=1.0.0->ucimlrepo) (2025.2)\n",
            "Requirement already satisfied: six>=1.5 in /usr/local/lib/python3.12/dist-packages (from python-dateutil>=2.8.2->pandas>=1.0.0->ucimlrepo) (1.17.0)\n",
            "Downloading ucimlrepo-0.0.7-py3-none-any.whl (8.0 kB)\n",
            "Installing collected packages: ucimlrepo\n",
            "Successfully installed ucimlrepo-0.0.7\n"
          ]
        }
      ]
    },
    {
      "cell_type": "code",
      "source": [
        "from ucimlrepo import fetch_ucirepo\n",
        "\n",
        "# fetch dataset\n",
        "adult = fetch_ucirepo(id=2)\n",
        "\n",
        "# data (as pandas dataframes)\n",
        "X = adult.data.features\n",
        "y = adult.data.targets\n",
        "\n",
        "# metadata\n",
        "print(adult.metadata)\n",
        "\n",
        "# variable information\n",
        "print(adult.variables)\n"
      ],
      "metadata": {
        "colab": {
          "base_uri": "https://localhost:8080/"
        },
        "id": "SdF5HGzUmTSY",
        "outputId": "e3f581d5-76cb-45e5-b8a2-33df607ea650"
      },
      "execution_count": 5,
      "outputs": [
        {
          "output_type": "stream",
          "name": "stdout",
          "text": [
            "{'uci_id': 2, 'name': 'Adult', 'repository_url': 'https://archive.ics.uci.edu/dataset/2/adult', 'data_url': 'https://archive.ics.uci.edu/static/public/2/data.csv', 'abstract': 'Predict whether annual income of an individual exceeds $50K/yr based on census data. Also known as \"Census Income\" dataset. ', 'area': 'Social Science', 'tasks': ['Classification'], 'characteristics': ['Multivariate'], 'num_instances': 48842, 'num_features': 14, 'feature_types': ['Categorical', 'Integer'], 'demographics': ['Age', 'Income', 'Education Level', 'Other', 'Race', 'Sex'], 'target_col': ['income'], 'index_col': None, 'has_missing_values': 'yes', 'missing_values_symbol': 'NaN', 'year_of_dataset_creation': 1996, 'last_updated': 'Tue Sep 24 2024', 'dataset_doi': '10.24432/C5XW20', 'creators': ['Barry Becker', 'Ronny Kohavi'], 'intro_paper': None, 'additional_info': {'summary': \"Extraction was done by Barry Becker from the 1994 Census database.  A set of reasonably clean records was extracted using the following conditions: ((AAGE>16) && (AGI>100) && (AFNLWGT>1)&& (HRSWK>0))\\n\\nPrediction task is to determine whether a person's income is over $50,000 a year.\\n\", 'purpose': None, 'funded_by': None, 'instances_represent': None, 'recommended_data_splits': None, 'sensitive_data': None, 'preprocessing_description': None, 'variable_info': 'Listing of attributes:\\r\\n\\r\\n>50K, <=50K.\\r\\n\\r\\nage: continuous.\\r\\nworkclass: Private, Self-emp-not-inc, Self-emp-inc, Federal-gov, Local-gov, State-gov, Without-pay, Never-worked.\\r\\nfnlwgt: continuous.\\r\\neducation: Bachelors, Some-college, 11th, HS-grad, Prof-school, Assoc-acdm, Assoc-voc, 9th, 7th-8th, 12th, Masters, 1st-4th, 10th, Doctorate, 5th-6th, Preschool.\\r\\neducation-num: continuous.\\r\\nmarital-status: Married-civ-spouse, Divorced, Never-married, Separated, Widowed, Married-spouse-absent, Married-AF-spouse.\\r\\noccupation: Tech-support, Craft-repair, Other-service, Sales, Exec-managerial, Prof-specialty, Handlers-cleaners, Machine-op-inspct, Adm-clerical, Farming-fishing, Transport-moving, Priv-house-serv, Protective-serv, Armed-Forces.\\r\\nrelationship: Wife, Own-child, Husband, Not-in-family, Other-relative, Unmarried.\\r\\nrace: White, Asian-Pac-Islander, Amer-Indian-Eskimo, Other, Black.\\r\\nsex: Female, Male.\\r\\ncapital-gain: continuous.\\r\\ncapital-loss: continuous.\\r\\nhours-per-week: continuous.\\r\\nnative-country: United-States, Cambodia, England, Puerto-Rico, Canada, Germany, Outlying-US(Guam-USVI-etc), India, Japan, Greece, South, China, Cuba, Iran, Honduras, Philippines, Italy, Poland, Jamaica, Vietnam, Mexico, Portugal, Ireland, France, Dominican-Republic, Laos, Ecuador, Taiwan, Haiti, Columbia, Hungary, Guatemala, Nicaragua, Scotland, Thailand, Yugoslavia, El-Salvador, Trinadad&Tobago, Peru, Hong, Holand-Netherlands.', 'citation': None}}\n",
            "              name     role         type      demographic  \\\n",
            "0              age  Feature      Integer              Age   \n",
            "1        workclass  Feature  Categorical           Income   \n",
            "2           fnlwgt  Feature      Integer             None   \n",
            "3        education  Feature  Categorical  Education Level   \n",
            "4    education-num  Feature      Integer  Education Level   \n",
            "5   marital-status  Feature  Categorical            Other   \n",
            "6       occupation  Feature  Categorical            Other   \n",
            "7     relationship  Feature  Categorical            Other   \n",
            "8             race  Feature  Categorical             Race   \n",
            "9              sex  Feature       Binary              Sex   \n",
            "10    capital-gain  Feature      Integer             None   \n",
            "11    capital-loss  Feature      Integer             None   \n",
            "12  hours-per-week  Feature      Integer             None   \n",
            "13  native-country  Feature  Categorical            Other   \n",
            "14          income   Target       Binary           Income   \n",
            "\n",
            "                                          description units missing_values  \n",
            "0                                                 N/A  None             no  \n",
            "1   Private, Self-emp-not-inc, Self-emp-inc, Feder...  None            yes  \n",
            "2                                                None  None             no  \n",
            "3    Bachelors, Some-college, 11th, HS-grad, Prof-...  None             no  \n",
            "4                                                None  None             no  \n",
            "5   Married-civ-spouse, Divorced, Never-married, S...  None             no  \n",
            "6   Tech-support, Craft-repair, Other-service, Sal...  None            yes  \n",
            "7   Wife, Own-child, Husband, Not-in-family, Other...  None             no  \n",
            "8   White, Asian-Pac-Islander, Amer-Indian-Eskimo,...  None             no  \n",
            "9                                       Female, Male.  None             no  \n",
            "10                                               None  None             no  \n",
            "11                                               None  None             no  \n",
            "12                                               None  None             no  \n",
            "13  United-States, Cambodia, England, Puerto-Rico,...  None            yes  \n",
            "14                                       >50K, <=50K.  None             no  \n"
          ]
        }
      ]
    },
    {
      "cell_type": "markdown",
      "source": [
        "# New Information:\n",
        "\n",
        "## ✅ Data Is Already Loaded and Clean!\n",
        "\n",
        "The key thing to understand is that the **`fetch_ucirepo`** function has already done all the hard work for you:\n",
        "\n",
        "1.  It automatically **loaded the data** (equivalent to your `pd.read_csv` command).\n",
        "2.  It correctly handled the **column names** and the complex **separators**.\n",
        "3.  Crucially, it usually handles the **missing values** (the `\" ?\"`) by converting them directly to **NaN** (Null) values, which is the required format for Pandas and scikit-learn.\n",
        "\n",
        "### 🎯 How to Proceed (The Modern Way)\n",
        "\n",
        "You have already executed the necessary loading steps. Here is how you now take the data and combine it into a single, usable DataFrame named **`df`** (similar to your previous `df_dropped` or `df_lr`), which is the standard starting point for preprocessing:\n",
        "\n",
        "## Step 1: Combine Features (X) and Target (y)\n",
        "\n",
        "First, let's combine the separate $\\mathbf{X}$ (features) and $\\mathbf{y}$ (target) DataFrames into one clean `df` so you can continue your preprocessing steps."
      ],
      "metadata": {
        "id": "GEDU2KiYn-DA"
      }
    },
    {
      "cell_type": "code",
      "source": [
        "import pandas as pd\n",
        "from ucimlrepo import fetch_ucirepo\n",
        "\n",
        "# --- Data Loading (Already Done) ---\n",
        "adult = fetch_ucirepo(id=2)\n",
        "X = adult.data.features\n",
        "y = adult.data.targets\n",
        "\n",
        "# --- New Step: Combine X and y into a single DataFrame (df) ---\n",
        "# Reset the index of the target 'y' just to ensure clean concatenation\n",
        "y.reset_index(drop=True, inplace=True)\n",
        "\n",
        "# Concatenate X and y side-by-side (axis=1)\n",
        "# This creates the standard working DataFrame 'df'\n",
        "df = pd.concat([X, y], axis=1)\n",
        "\n",
        "print(\"✅ Data successfully loaded and combined into 'df'.\")\n",
        "print(\"\\nFirst 5 rows of the combined DataFrame:\")\n",
        "print(df.head())"
      ],
      "metadata": {
        "colab": {
          "base_uri": "https://localhost:8080/"
        },
        "id": "VMt-up_1nZ_e",
        "outputId": "01d8a17a-d5e8-4f60-c716-e33aa20c7d1b"
      },
      "execution_count": 6,
      "outputs": [
        {
          "output_type": "stream",
          "name": "stdout",
          "text": [
            "✅ Data successfully loaded and combined into 'df'.\n",
            "\n",
            "First 5 rows of the combined DataFrame:\n",
            "   age         workclass  fnlwgt  education  education-num  \\\n",
            "0   39         State-gov   77516  Bachelors             13   \n",
            "1   50  Self-emp-not-inc   83311  Bachelors             13   \n",
            "2   38           Private  215646    HS-grad              9   \n",
            "3   53           Private  234721       11th              7   \n",
            "4   28           Private  338409  Bachelors             13   \n",
            "\n",
            "       marital-status         occupation   relationship   race     sex  \\\n",
            "0       Never-married       Adm-clerical  Not-in-family  White    Male   \n",
            "1  Married-civ-spouse    Exec-managerial        Husband  White    Male   \n",
            "2            Divorced  Handlers-cleaners  Not-in-family  White    Male   \n",
            "3  Married-civ-spouse  Handlers-cleaners        Husband  Black    Male   \n",
            "4  Married-civ-spouse     Prof-specialty           Wife  Black  Female   \n",
            "\n",
            "   capital-gain  capital-loss  hours-per-week native-country income  \n",
            "0          2174             0              40  United-States  <=50K  \n",
            "1             0             0              13  United-States  <=50K  \n",
            "2             0             0              40  United-States  <=50K  \n",
            "3             0             0              40  United-States  <=50K  \n",
            "4             0             0              40           Cuba  <=50K  \n"
          ]
        }
      ]
    },
    {
      "cell_type": "markdown",
      "source": [
        "# 💻 Step 0: Initial Data Copy and Exploration"
      ],
      "metadata": {
        "id": "obYYFpcrt5f-"
      }
    },
    {
      "cell_type": "code",
      "source": [
        "# Create a working copy of the loaded DataFrame\n",
        "df_adult = df.copy()\n",
        "\n",
        "print()"
      ],
      "metadata": {
        "colab": {
          "base_uri": "https://localhost:8080/"
        },
        "id": "KDsnY8x6t9c7",
        "outputId": "2ae926f1-b46e-4331-bb08-fc351b26c7b3"
      },
      "execution_count": 7,
      "outputs": [
        {
          "output_type": "stream",
          "name": "stdout",
          "text": [
            "\n"
          ]
        }
      ]
    },
    {
      "cell_type": "code",
      "source": [
        "# 2. Structural Check: Data Types and Missing Values:\n",
        "df_adult.info()\n",
        "\n",
        "# Directly checking the total count of missing values per column\n",
        "print(\"\\n--- Missing Value Count ---\")\n",
        "print(df_adult.isnull().sum())"
      ],
      "metadata": {
        "colab": {
          "base_uri": "https://localhost:8080/"
        },
        "id": "6vy2DZ68uEJb",
        "outputId": "56b08489-f156-44d0-b976-2010754ff8f0"
      },
      "execution_count": 10,
      "outputs": [
        {
          "output_type": "stream",
          "name": "stdout",
          "text": [
            "<class 'pandas.core.frame.DataFrame'>\n",
            "RangeIndex: 48842 entries, 0 to 48841\n",
            "Data columns (total 15 columns):\n",
            " #   Column          Non-Null Count  Dtype \n",
            "---  ------          --------------  ----- \n",
            " 0   age             48842 non-null  int64 \n",
            " 1   workclass       47879 non-null  object\n",
            " 2   fnlwgt          48842 non-null  int64 \n",
            " 3   education       48842 non-null  object\n",
            " 4   education-num   48842 non-null  int64 \n",
            " 5   marital-status  48842 non-null  object\n",
            " 6   occupation      47876 non-null  object\n",
            " 7   relationship    48842 non-null  object\n",
            " 8   race            48842 non-null  object\n",
            " 9   sex             48842 non-null  object\n",
            " 10  capital-gain    48842 non-null  int64 \n",
            " 11  capital-loss    48842 non-null  int64 \n",
            " 12  hours-per-week  48842 non-null  int64 \n",
            " 13  native-country  48568 non-null  object\n",
            " 14  income          48842 non-null  object\n",
            "dtypes: int64(6), object(9)\n",
            "memory usage: 5.6+ MB\n",
            "\n",
            "--- Missing Value Count ---\n",
            "age                 0\n",
            "workclass         963\n",
            "fnlwgt              0\n",
            "education           0\n",
            "education-num       0\n",
            "marital-status      0\n",
            "occupation        966\n",
            "relationship        0\n",
            "race                0\n",
            "sex                 0\n",
            "capital-gain        0\n",
            "capital-loss        0\n",
            "hours-per-week      0\n",
            "native-country    274\n",
            "income              0\n",
            "dtype: int64\n"
          ]
        }
      ]
    },
    {
      "cell_type": "code",
      "source": [
        "# 3. Statistical Summary of Numeric Features:"
      ],
      "metadata": {
        "id": "H3vtvkijunZZ"
      },
      "execution_count": null,
      "outputs": []
    },
    {
      "cell_type": "code",
      "source": [
        "\n",
        "print(df_adult.describe().T)"
      ],
      "metadata": {
        "colab": {
          "base_uri": "https://localhost:8080/"
        },
        "id": "h5Wz9bZwuvHp",
        "outputId": "4420113c-0e7c-41e6-952a-33b1f2590025"
      },
      "execution_count": 11,
      "outputs": [
        {
          "output_type": "stream",
          "name": "stdout",
          "text": [
            "                  count           mean            std      min       25%  \\\n",
            "age             48842.0      38.643585      13.710510     17.0      28.0   \n",
            "fnlwgt          48842.0  189664.134597  105604.025423  12285.0  117550.5   \n",
            "education-num   48842.0      10.078089       2.570973      1.0       9.0   \n",
            "capital-gain    48842.0    1079.067626    7452.019058      0.0       0.0   \n",
            "capital-loss    48842.0      87.502314     403.004552      0.0       0.0   \n",
            "hours-per-week  48842.0      40.422382      12.391444      1.0      40.0   \n",
            "\n",
            "                     50%       75%        max  \n",
            "age                 37.0      48.0       90.0  \n",
            "fnlwgt          178144.5  237642.0  1490400.0  \n",
            "education-num       10.0      12.0       16.0  \n",
            "capital-gain         0.0       0.0    99999.0  \n",
            "capital-loss         0.0       0.0     4356.0  \n",
            "hours-per-week      40.0      45.0       99.0  \n"
          ]
        }
      ]
    },
    {
      "cell_type": "code",
      "source": [
        "# 4. Analysis of Categorical Features\n",
        "\n",
        "# List of the most important categorical features\n",
        "categorical_cols = ['workclass', 'education', 'marital-status', 'occupation', 'relationship', 'race', 'sex', 'income']\n",
        "\n",
        "for col in categorical_cols:\n",
        "    print(f\"\\n--- {col.upper()} ---\")\n",
        "    print(df_adult[col].value_counts(dropna=False)) # dropna=False includes NaN counts\n",
        "    print(f\"Unique values: {df_adult[col].nunique()}\")"
      ],
      "metadata": {
        "colab": {
          "base_uri": "https://localhost:8080/"
        },
        "id": "NpTJKG1Wu4SB",
        "outputId": "0b939011-2161-4b55-e33f-819d29171721"
      },
      "execution_count": 13,
      "outputs": [
        {
          "output_type": "stream",
          "name": "stdout",
          "text": [
            "\n",
            "--- WORKCLASS ---\n",
            "workclass\n",
            "Private             33906\n",
            "Self-emp-not-inc     3862\n",
            "Local-gov            3136\n",
            "State-gov            1981\n",
            "?                    1836\n",
            "Self-emp-inc         1695\n",
            "Federal-gov          1432\n",
            "NaN                   963\n",
            "Without-pay            21\n",
            "Never-worked           10\n",
            "Name: count, dtype: int64\n",
            "Unique values: 9\n",
            "\n",
            "--- EDUCATION ---\n",
            "education\n",
            "HS-grad         15784\n",
            "Some-college    10878\n",
            "Bachelors        8025\n",
            "Masters          2657\n",
            "Assoc-voc        2061\n",
            "11th             1812\n",
            "Assoc-acdm       1601\n",
            "10th             1389\n",
            "7th-8th           955\n",
            "Prof-school       834\n",
            "9th               756\n",
            "12th              657\n",
            "Doctorate         594\n",
            "5th-6th           509\n",
            "1st-4th           247\n",
            "Preschool          83\n",
            "Name: count, dtype: int64\n",
            "Unique values: 16\n",
            "\n",
            "--- MARITAL-STATUS ---\n",
            "marital-status\n",
            "Married-civ-spouse       22379\n",
            "Never-married            16117\n",
            "Divorced                  6633\n",
            "Separated                 1530\n",
            "Widowed                   1518\n",
            "Married-spouse-absent      628\n",
            "Married-AF-spouse           37\n",
            "Name: count, dtype: int64\n",
            "Unique values: 7\n",
            "\n",
            "--- OCCUPATION ---\n",
            "occupation\n",
            "Prof-specialty       6172\n",
            "Craft-repair         6112\n",
            "Exec-managerial      6086\n",
            "Adm-clerical         5611\n",
            "Sales                5504\n",
            "Other-service        4923\n",
            "Machine-op-inspct    3022\n",
            "Transport-moving     2355\n",
            "Handlers-cleaners    2072\n",
            "?                    1843\n",
            "Farming-fishing      1490\n",
            "Tech-support         1446\n",
            "Protective-serv       983\n",
            "NaN                   966\n",
            "Priv-house-serv       242\n",
            "Armed-Forces           15\n",
            "Name: count, dtype: int64\n",
            "Unique values: 15\n",
            "\n",
            "--- RELATIONSHIP ---\n",
            "relationship\n",
            "Husband           19716\n",
            "Not-in-family     12583\n",
            "Own-child          7581\n",
            "Unmarried          5125\n",
            "Wife               2331\n",
            "Other-relative     1506\n",
            "Name: count, dtype: int64\n",
            "Unique values: 6\n",
            "\n",
            "--- RACE ---\n",
            "race\n",
            "White                 41762\n",
            "Black                  4685\n",
            "Asian-Pac-Islander     1519\n",
            "Amer-Indian-Eskimo      470\n",
            "Other                   406\n",
            "Name: count, dtype: int64\n",
            "Unique values: 5\n",
            "\n",
            "--- SEX ---\n",
            "sex\n",
            "Male      32650\n",
            "Female    16192\n",
            "Name: count, dtype: int64\n",
            "Unique values: 2\n",
            "\n",
            "--- INCOME ---\n",
            "income\n",
            "<=50K     24720\n",
            "<=50K.    12435\n",
            ">50K       7841\n",
            ">50K.      3846\n",
            "Name: count, dtype: int64\n",
            "Unique values: 4\n"
          ]
        }
      ]
    },
    {
      "cell_type": "code",
      "source": [
        "# Dataset First View:\n",
        "df_adult.describe()"
      ],
      "metadata": {
        "colab": {
          "base_uri": "https://localhost:8080/",
          "height": 300
        },
        "id": "KdYKljKdwDVl",
        "outputId": "b30a44ef-273a-4137-b078-a2e4e6440877"
      },
      "execution_count": 18,
      "outputs": [
        {
          "output_type": "execute_result",
          "data": {
            "text/plain": [
              "                age        fnlwgt  education-num  capital-gain  capital-loss  \\\n",
              "count  48842.000000  4.884200e+04   48842.000000  48842.000000  48842.000000   \n",
              "mean      38.643585  1.896641e+05      10.078089   1079.067626     87.502314   \n",
              "std       13.710510  1.056040e+05       2.570973   7452.019058    403.004552   \n",
              "min       17.000000  1.228500e+04       1.000000      0.000000      0.000000   \n",
              "25%       28.000000  1.175505e+05       9.000000      0.000000      0.000000   \n",
              "50%       37.000000  1.781445e+05      10.000000      0.000000      0.000000   \n",
              "75%       48.000000  2.376420e+05      12.000000      0.000000      0.000000   \n",
              "max       90.000000  1.490400e+06      16.000000  99999.000000   4356.000000   \n",
              "\n",
              "       hours-per-week  \n",
              "count    48842.000000  \n",
              "mean        40.422382  \n",
              "std         12.391444  \n",
              "min          1.000000  \n",
              "25%         40.000000  \n",
              "50%         40.000000  \n",
              "75%         45.000000  \n",
              "max         99.000000  "
            ],
            "text/html": [
              "\n",
              "  <div id=\"df-f9874496-d8ca-4951-84b9-ca7c3e57eaa5\" class=\"colab-df-container\">\n",
              "    <div>\n",
              "<style scoped>\n",
              "    .dataframe tbody tr th:only-of-type {\n",
              "        vertical-align: middle;\n",
              "    }\n",
              "\n",
              "    .dataframe tbody tr th {\n",
              "        vertical-align: top;\n",
              "    }\n",
              "\n",
              "    .dataframe thead th {\n",
              "        text-align: right;\n",
              "    }\n",
              "</style>\n",
              "<table border=\"1\" class=\"dataframe\">\n",
              "  <thead>\n",
              "    <tr style=\"text-align: right;\">\n",
              "      <th></th>\n",
              "      <th>age</th>\n",
              "      <th>fnlwgt</th>\n",
              "      <th>education-num</th>\n",
              "      <th>capital-gain</th>\n",
              "      <th>capital-loss</th>\n",
              "      <th>hours-per-week</th>\n",
              "    </tr>\n",
              "  </thead>\n",
              "  <tbody>\n",
              "    <tr>\n",
              "      <th>count</th>\n",
              "      <td>48842.000000</td>\n",
              "      <td>4.884200e+04</td>\n",
              "      <td>48842.000000</td>\n",
              "      <td>48842.000000</td>\n",
              "      <td>48842.000000</td>\n",
              "      <td>48842.000000</td>\n",
              "    </tr>\n",
              "    <tr>\n",
              "      <th>mean</th>\n",
              "      <td>38.643585</td>\n",
              "      <td>1.896641e+05</td>\n",
              "      <td>10.078089</td>\n",
              "      <td>1079.067626</td>\n",
              "      <td>87.502314</td>\n",
              "      <td>40.422382</td>\n",
              "    </tr>\n",
              "    <tr>\n",
              "      <th>std</th>\n",
              "      <td>13.710510</td>\n",
              "      <td>1.056040e+05</td>\n",
              "      <td>2.570973</td>\n",
              "      <td>7452.019058</td>\n",
              "      <td>403.004552</td>\n",
              "      <td>12.391444</td>\n",
              "    </tr>\n",
              "    <tr>\n",
              "      <th>min</th>\n",
              "      <td>17.000000</td>\n",
              "      <td>1.228500e+04</td>\n",
              "      <td>1.000000</td>\n",
              "      <td>0.000000</td>\n",
              "      <td>0.000000</td>\n",
              "      <td>1.000000</td>\n",
              "    </tr>\n",
              "    <tr>\n",
              "      <th>25%</th>\n",
              "      <td>28.000000</td>\n",
              "      <td>1.175505e+05</td>\n",
              "      <td>9.000000</td>\n",
              "      <td>0.000000</td>\n",
              "      <td>0.000000</td>\n",
              "      <td>40.000000</td>\n",
              "    </tr>\n",
              "    <tr>\n",
              "      <th>50%</th>\n",
              "      <td>37.000000</td>\n",
              "      <td>1.781445e+05</td>\n",
              "      <td>10.000000</td>\n",
              "      <td>0.000000</td>\n",
              "      <td>0.000000</td>\n",
              "      <td>40.000000</td>\n",
              "    </tr>\n",
              "    <tr>\n",
              "      <th>75%</th>\n",
              "      <td>48.000000</td>\n",
              "      <td>2.376420e+05</td>\n",
              "      <td>12.000000</td>\n",
              "      <td>0.000000</td>\n",
              "      <td>0.000000</td>\n",
              "      <td>45.000000</td>\n",
              "    </tr>\n",
              "    <tr>\n",
              "      <th>max</th>\n",
              "      <td>90.000000</td>\n",
              "      <td>1.490400e+06</td>\n",
              "      <td>16.000000</td>\n",
              "      <td>99999.000000</td>\n",
              "      <td>4356.000000</td>\n",
              "      <td>99.000000</td>\n",
              "    </tr>\n",
              "  </tbody>\n",
              "</table>\n",
              "</div>\n",
              "    <div class=\"colab-df-buttons\">\n",
              "\n",
              "  <div class=\"colab-df-container\">\n",
              "    <button class=\"colab-df-convert\" onclick=\"convertToInteractive('df-f9874496-d8ca-4951-84b9-ca7c3e57eaa5')\"\n",
              "            title=\"Convert this dataframe to an interactive table.\"\n",
              "            style=\"display:none;\">\n",
              "\n",
              "  <svg xmlns=\"http://www.w3.org/2000/svg\" height=\"24px\" viewBox=\"0 -960 960 960\">\n",
              "    <path d=\"M120-120v-720h720v720H120Zm60-500h600v-160H180v160Zm220 220h160v-160H400v160Zm0 220h160v-160H400v160ZM180-400h160v-160H180v160Zm440 0h160v-160H620v160ZM180-180h160v-160H180v160Zm440 0h160v-160H620v160Z\"/>\n",
              "  </svg>\n",
              "    </button>\n",
              "\n",
              "  <style>\n",
              "    .colab-df-container {\n",
              "      display:flex;\n",
              "      gap: 12px;\n",
              "    }\n",
              "\n",
              "    .colab-df-convert {\n",
              "      background-color: #E8F0FE;\n",
              "      border: none;\n",
              "      border-radius: 50%;\n",
              "      cursor: pointer;\n",
              "      display: none;\n",
              "      fill: #1967D2;\n",
              "      height: 32px;\n",
              "      padding: 0 0 0 0;\n",
              "      width: 32px;\n",
              "    }\n",
              "\n",
              "    .colab-df-convert:hover {\n",
              "      background-color: #E2EBFA;\n",
              "      box-shadow: 0px 1px 2px rgba(60, 64, 67, 0.3), 0px 1px 3px 1px rgba(60, 64, 67, 0.15);\n",
              "      fill: #174EA6;\n",
              "    }\n",
              "\n",
              "    .colab-df-buttons div {\n",
              "      margin-bottom: 4px;\n",
              "    }\n",
              "\n",
              "    [theme=dark] .colab-df-convert {\n",
              "      background-color: #3B4455;\n",
              "      fill: #D2E3FC;\n",
              "    }\n",
              "\n",
              "    [theme=dark] .colab-df-convert:hover {\n",
              "      background-color: #434B5C;\n",
              "      box-shadow: 0px 1px 3px 1px rgba(0, 0, 0, 0.15);\n",
              "      filter: drop-shadow(0px 1px 2px rgba(0, 0, 0, 0.3));\n",
              "      fill: #FFFFFF;\n",
              "    }\n",
              "  </style>\n",
              "\n",
              "    <script>\n",
              "      const buttonEl =\n",
              "        document.querySelector('#df-f9874496-d8ca-4951-84b9-ca7c3e57eaa5 button.colab-df-convert');\n",
              "      buttonEl.style.display =\n",
              "        google.colab.kernel.accessAllowed ? 'block' : 'none';\n",
              "\n",
              "      async function convertToInteractive(key) {\n",
              "        const element = document.querySelector('#df-f9874496-d8ca-4951-84b9-ca7c3e57eaa5');\n",
              "        const dataTable =\n",
              "          await google.colab.kernel.invokeFunction('convertToInteractive',\n",
              "                                                    [key], {});\n",
              "        if (!dataTable) return;\n",
              "\n",
              "        const docLinkHtml = 'Like what you see? Visit the ' +\n",
              "          '<a target=\"_blank\" href=https://colab.research.google.com/notebooks/data_table.ipynb>data table notebook</a>'\n",
              "          + ' to learn more about interactive tables.';\n",
              "        element.innerHTML = '';\n",
              "        dataTable['output_type'] = 'display_data';\n",
              "        await google.colab.output.renderOutput(dataTable, element);\n",
              "        const docLink = document.createElement('div');\n",
              "        docLink.innerHTML = docLinkHtml;\n",
              "        element.appendChild(docLink);\n",
              "      }\n",
              "    </script>\n",
              "  </div>\n",
              "\n",
              "\n",
              "    <div id=\"df-fe947d54-04c9-4b45-872e-17e6bd29fbe7\">\n",
              "      <button class=\"colab-df-quickchart\" onclick=\"quickchart('df-fe947d54-04c9-4b45-872e-17e6bd29fbe7')\"\n",
              "                title=\"Suggest charts\"\n",
              "                style=\"display:none;\">\n",
              "\n",
              "<svg xmlns=\"http://www.w3.org/2000/svg\" height=\"24px\"viewBox=\"0 0 24 24\"\n",
              "     width=\"24px\">\n",
              "    <g>\n",
              "        <path d=\"M19 3H5c-1.1 0-2 .9-2 2v14c0 1.1.9 2 2 2h14c1.1 0 2-.9 2-2V5c0-1.1-.9-2-2-2zM9 17H7v-7h2v7zm4 0h-2V7h2v10zm4 0h-2v-4h2v4z\"/>\n",
              "    </g>\n",
              "</svg>\n",
              "      </button>\n",
              "\n",
              "<style>\n",
              "  .colab-df-quickchart {\n",
              "      --bg-color: #E8F0FE;\n",
              "      --fill-color: #1967D2;\n",
              "      --hover-bg-color: #E2EBFA;\n",
              "      --hover-fill-color: #174EA6;\n",
              "      --disabled-fill-color: #AAA;\n",
              "      --disabled-bg-color: #DDD;\n",
              "  }\n",
              "\n",
              "  [theme=dark] .colab-df-quickchart {\n",
              "      --bg-color: #3B4455;\n",
              "      --fill-color: #D2E3FC;\n",
              "      --hover-bg-color: #434B5C;\n",
              "      --hover-fill-color: #FFFFFF;\n",
              "      --disabled-bg-color: #3B4455;\n",
              "      --disabled-fill-color: #666;\n",
              "  }\n",
              "\n",
              "  .colab-df-quickchart {\n",
              "    background-color: var(--bg-color);\n",
              "    border: none;\n",
              "    border-radius: 50%;\n",
              "    cursor: pointer;\n",
              "    display: none;\n",
              "    fill: var(--fill-color);\n",
              "    height: 32px;\n",
              "    padding: 0;\n",
              "    width: 32px;\n",
              "  }\n",
              "\n",
              "  .colab-df-quickchart:hover {\n",
              "    background-color: var(--hover-bg-color);\n",
              "    box-shadow: 0 1px 2px rgba(60, 64, 67, 0.3), 0 1px 3px 1px rgba(60, 64, 67, 0.15);\n",
              "    fill: var(--button-hover-fill-color);\n",
              "  }\n",
              "\n",
              "  .colab-df-quickchart-complete:disabled,\n",
              "  .colab-df-quickchart-complete:disabled:hover {\n",
              "    background-color: var(--disabled-bg-color);\n",
              "    fill: var(--disabled-fill-color);\n",
              "    box-shadow: none;\n",
              "  }\n",
              "\n",
              "  .colab-df-spinner {\n",
              "    border: 2px solid var(--fill-color);\n",
              "    border-color: transparent;\n",
              "    border-bottom-color: var(--fill-color);\n",
              "    animation:\n",
              "      spin 1s steps(1) infinite;\n",
              "  }\n",
              "\n",
              "  @keyframes spin {\n",
              "    0% {\n",
              "      border-color: transparent;\n",
              "      border-bottom-color: var(--fill-color);\n",
              "      border-left-color: var(--fill-color);\n",
              "    }\n",
              "    20% {\n",
              "      border-color: transparent;\n",
              "      border-left-color: var(--fill-color);\n",
              "      border-top-color: var(--fill-color);\n",
              "    }\n",
              "    30% {\n",
              "      border-color: transparent;\n",
              "      border-left-color: var(--fill-color);\n",
              "      border-top-color: var(--fill-color);\n",
              "      border-right-color: var(--fill-color);\n",
              "    }\n",
              "    40% {\n",
              "      border-color: transparent;\n",
              "      border-right-color: var(--fill-color);\n",
              "      border-top-color: var(--fill-color);\n",
              "    }\n",
              "    60% {\n",
              "      border-color: transparent;\n",
              "      border-right-color: var(--fill-color);\n",
              "    }\n",
              "    80% {\n",
              "      border-color: transparent;\n",
              "      border-right-color: var(--fill-color);\n",
              "      border-bottom-color: var(--fill-color);\n",
              "    }\n",
              "    90% {\n",
              "      border-color: transparent;\n",
              "      border-bottom-color: var(--fill-color);\n",
              "    }\n",
              "  }\n",
              "</style>\n",
              "\n",
              "      <script>\n",
              "        async function quickchart(key) {\n",
              "          const quickchartButtonEl =\n",
              "            document.querySelector('#' + key + ' button');\n",
              "          quickchartButtonEl.disabled = true;  // To prevent multiple clicks.\n",
              "          quickchartButtonEl.classList.add('colab-df-spinner');\n",
              "          try {\n",
              "            const charts = await google.colab.kernel.invokeFunction(\n",
              "                'suggestCharts', [key], {});\n",
              "          } catch (error) {\n",
              "            console.error('Error during call to suggestCharts:', error);\n",
              "          }\n",
              "          quickchartButtonEl.classList.remove('colab-df-spinner');\n",
              "          quickchartButtonEl.classList.add('colab-df-quickchart-complete');\n",
              "        }\n",
              "        (() => {\n",
              "          let quickchartButtonEl =\n",
              "            document.querySelector('#df-fe947d54-04c9-4b45-872e-17e6bd29fbe7 button');\n",
              "          quickchartButtonEl.style.display =\n",
              "            google.colab.kernel.accessAllowed ? 'block' : 'none';\n",
              "        })();\n",
              "      </script>\n",
              "    </div>\n",
              "\n",
              "    </div>\n",
              "  </div>\n"
            ],
            "application/vnd.google.colaboratory.intrinsic+json": {
              "type": "dataframe",
              "summary": "{\n  \"name\": \"df_adult\",\n  \"rows\": 8,\n  \"fields\": [\n    {\n      \"column\": \"age\",\n      \"properties\": {\n        \"dtype\": \"number\",\n        \"std\": 17254.515015865374,\n        \"min\": 13.710509934443177,\n        \"max\": 48842.0,\n        \"num_unique_values\": 8,\n        \"samples\": [\n          38.64358543876172,\n          37.0,\n          48842.0\n        ],\n        \"semantic_type\": \"\",\n        \"description\": \"\"\n      }\n    },\n    {\n      \"column\": \"fnlwgt\",\n      \"properties\": {\n        \"dtype\": \"number\",\n        \"std\": 487684.321495278,\n        \"min\": 12285.0,\n        \"max\": 1490400.0,\n        \"num_unique_values\": 8,\n        \"samples\": [\n          189664.13459727284,\n          178144.5,\n          48842.0\n        ],\n        \"semantic_type\": \"\",\n        \"description\": \"\"\n      }\n    },\n    {\n      \"column\": \"education-num\",\n      \"properties\": {\n        \"dtype\": \"number\",\n        \"std\": 17265.19214458616,\n        \"min\": 1.0,\n        \"max\": 48842.0,\n        \"num_unique_values\": 8,\n        \"samples\": [\n          10.078088530363212,\n          10.0,\n          48842.0\n        ],\n        \"semantic_type\": \"\",\n        \"description\": \"\"\n      }\n    },\n    {\n      \"column\": \"capital-gain\",\n      \"properties\": {\n        \"dtype\": \"number\",\n        \"std\": 36540.17599373695,\n        \"min\": 0.0,\n        \"max\": 99999.0,\n        \"num_unique_values\": 5,\n        \"samples\": [\n          1079.0676262233324,\n          99999.0,\n          7452.019057653414\n        ],\n        \"semantic_type\": \"\",\n        \"description\": \"\"\n      }\n    },\n    {\n      \"column\": \"capital-loss\",\n      \"properties\": {\n        \"dtype\": \"number\",\n        \"std\": 17089.59080902876,\n        \"min\": 0.0,\n        \"max\": 48842.0,\n        \"num_unique_values\": 5,\n        \"samples\": [\n          87.50231358257237,\n          4356.0,\n          403.0045521244541\n        ],\n        \"semantic_type\": \"\",\n        \"description\": \"\"\n      }\n    },\n    {\n      \"column\": \"hours-per-week\",\n      \"properties\": {\n        \"dtype\": \"number\",\n        \"std\": 17254.24695017911,\n        \"min\": 1.0,\n        \"max\": 48842.0,\n        \"num_unique_values\": 7,\n        \"samples\": [\n          48842.0,\n          40.422382375824085,\n          45.0\n        ],\n        \"semantic_type\": \"\",\n        \"description\": \"\"\n      }\n    }\n  ]\n}"
            }
          },
          "metadata": {},
          "execution_count": 18
        }
      ]
    },
    {
      "cell_type": "code",
      "source": [
        "df_adult.head(10)"
      ],
      "metadata": {
        "colab": {
          "base_uri": "https://localhost:8080/",
          "height": 363
        },
        "id": "-zwKgJ1SvFCn",
        "outputId": "4d64038e-b8b3-432e-c70d-f57925474265"
      },
      "execution_count": 15,
      "outputs": [
        {
          "output_type": "execute_result",
          "data": {
            "text/plain": [
              "   age         workclass  fnlwgt  education  education-num  \\\n",
              "0   39         State-gov   77516  Bachelors             13   \n",
              "1   50  Self-emp-not-inc   83311  Bachelors             13   \n",
              "2   38           Private  215646    HS-grad              9   \n",
              "3   53           Private  234721       11th              7   \n",
              "4   28           Private  338409  Bachelors             13   \n",
              "5   37           Private  284582    Masters             14   \n",
              "6   49           Private  160187        9th              5   \n",
              "7   52  Self-emp-not-inc  209642    HS-grad              9   \n",
              "8   31           Private   45781    Masters             14   \n",
              "9   42           Private  159449  Bachelors             13   \n",
              "\n",
              "          marital-status         occupation   relationship   race     sex  \\\n",
              "0          Never-married       Adm-clerical  Not-in-family  White    Male   \n",
              "1     Married-civ-spouse    Exec-managerial        Husband  White    Male   \n",
              "2               Divorced  Handlers-cleaners  Not-in-family  White    Male   \n",
              "3     Married-civ-spouse  Handlers-cleaners        Husband  Black    Male   \n",
              "4     Married-civ-spouse     Prof-specialty           Wife  Black  Female   \n",
              "5     Married-civ-spouse    Exec-managerial           Wife  White  Female   \n",
              "6  Married-spouse-absent      Other-service  Not-in-family  Black  Female   \n",
              "7     Married-civ-spouse    Exec-managerial        Husband  White    Male   \n",
              "8          Never-married     Prof-specialty  Not-in-family  White  Female   \n",
              "9     Married-civ-spouse    Exec-managerial        Husband  White    Male   \n",
              "\n",
              "   capital-gain  capital-loss  hours-per-week native-country income  \n",
              "0          2174             0              40  United-States  <=50K  \n",
              "1             0             0              13  United-States  <=50K  \n",
              "2             0             0              40  United-States  <=50K  \n",
              "3             0             0              40  United-States  <=50K  \n",
              "4             0             0              40           Cuba  <=50K  \n",
              "5             0             0              40  United-States  <=50K  \n",
              "6             0             0              16        Jamaica  <=50K  \n",
              "7             0             0              45  United-States   >50K  \n",
              "8         14084             0              50  United-States   >50K  \n",
              "9          5178             0              40  United-States   >50K  "
            ],
            "text/html": [
              "\n",
              "  <div id=\"df-cd46797d-1797-4a42-b5fe-b20e7bc4e293\" class=\"colab-df-container\">\n",
              "    <div>\n",
              "<style scoped>\n",
              "    .dataframe tbody tr th:only-of-type {\n",
              "        vertical-align: middle;\n",
              "    }\n",
              "\n",
              "    .dataframe tbody tr th {\n",
              "        vertical-align: top;\n",
              "    }\n",
              "\n",
              "    .dataframe thead th {\n",
              "        text-align: right;\n",
              "    }\n",
              "</style>\n",
              "<table border=\"1\" class=\"dataframe\">\n",
              "  <thead>\n",
              "    <tr style=\"text-align: right;\">\n",
              "      <th></th>\n",
              "      <th>age</th>\n",
              "      <th>workclass</th>\n",
              "      <th>fnlwgt</th>\n",
              "      <th>education</th>\n",
              "      <th>education-num</th>\n",
              "      <th>marital-status</th>\n",
              "      <th>occupation</th>\n",
              "      <th>relationship</th>\n",
              "      <th>race</th>\n",
              "      <th>sex</th>\n",
              "      <th>capital-gain</th>\n",
              "      <th>capital-loss</th>\n",
              "      <th>hours-per-week</th>\n",
              "      <th>native-country</th>\n",
              "      <th>income</th>\n",
              "    </tr>\n",
              "  </thead>\n",
              "  <tbody>\n",
              "    <tr>\n",
              "      <th>0</th>\n",
              "      <td>39</td>\n",
              "      <td>State-gov</td>\n",
              "      <td>77516</td>\n",
              "      <td>Bachelors</td>\n",
              "      <td>13</td>\n",
              "      <td>Never-married</td>\n",
              "      <td>Adm-clerical</td>\n",
              "      <td>Not-in-family</td>\n",
              "      <td>White</td>\n",
              "      <td>Male</td>\n",
              "      <td>2174</td>\n",
              "      <td>0</td>\n",
              "      <td>40</td>\n",
              "      <td>United-States</td>\n",
              "      <td>&lt;=50K</td>\n",
              "    </tr>\n",
              "    <tr>\n",
              "      <th>1</th>\n",
              "      <td>50</td>\n",
              "      <td>Self-emp-not-inc</td>\n",
              "      <td>83311</td>\n",
              "      <td>Bachelors</td>\n",
              "      <td>13</td>\n",
              "      <td>Married-civ-spouse</td>\n",
              "      <td>Exec-managerial</td>\n",
              "      <td>Husband</td>\n",
              "      <td>White</td>\n",
              "      <td>Male</td>\n",
              "      <td>0</td>\n",
              "      <td>0</td>\n",
              "      <td>13</td>\n",
              "      <td>United-States</td>\n",
              "      <td>&lt;=50K</td>\n",
              "    </tr>\n",
              "    <tr>\n",
              "      <th>2</th>\n",
              "      <td>38</td>\n",
              "      <td>Private</td>\n",
              "      <td>215646</td>\n",
              "      <td>HS-grad</td>\n",
              "      <td>9</td>\n",
              "      <td>Divorced</td>\n",
              "      <td>Handlers-cleaners</td>\n",
              "      <td>Not-in-family</td>\n",
              "      <td>White</td>\n",
              "      <td>Male</td>\n",
              "      <td>0</td>\n",
              "      <td>0</td>\n",
              "      <td>40</td>\n",
              "      <td>United-States</td>\n",
              "      <td>&lt;=50K</td>\n",
              "    </tr>\n",
              "    <tr>\n",
              "      <th>3</th>\n",
              "      <td>53</td>\n",
              "      <td>Private</td>\n",
              "      <td>234721</td>\n",
              "      <td>11th</td>\n",
              "      <td>7</td>\n",
              "      <td>Married-civ-spouse</td>\n",
              "      <td>Handlers-cleaners</td>\n",
              "      <td>Husband</td>\n",
              "      <td>Black</td>\n",
              "      <td>Male</td>\n",
              "      <td>0</td>\n",
              "      <td>0</td>\n",
              "      <td>40</td>\n",
              "      <td>United-States</td>\n",
              "      <td>&lt;=50K</td>\n",
              "    </tr>\n",
              "    <tr>\n",
              "      <th>4</th>\n",
              "      <td>28</td>\n",
              "      <td>Private</td>\n",
              "      <td>338409</td>\n",
              "      <td>Bachelors</td>\n",
              "      <td>13</td>\n",
              "      <td>Married-civ-spouse</td>\n",
              "      <td>Prof-specialty</td>\n",
              "      <td>Wife</td>\n",
              "      <td>Black</td>\n",
              "      <td>Female</td>\n",
              "      <td>0</td>\n",
              "      <td>0</td>\n",
              "      <td>40</td>\n",
              "      <td>Cuba</td>\n",
              "      <td>&lt;=50K</td>\n",
              "    </tr>\n",
              "    <tr>\n",
              "      <th>5</th>\n",
              "      <td>37</td>\n",
              "      <td>Private</td>\n",
              "      <td>284582</td>\n",
              "      <td>Masters</td>\n",
              "      <td>14</td>\n",
              "      <td>Married-civ-spouse</td>\n",
              "      <td>Exec-managerial</td>\n",
              "      <td>Wife</td>\n",
              "      <td>White</td>\n",
              "      <td>Female</td>\n",
              "      <td>0</td>\n",
              "      <td>0</td>\n",
              "      <td>40</td>\n",
              "      <td>United-States</td>\n",
              "      <td>&lt;=50K</td>\n",
              "    </tr>\n",
              "    <tr>\n",
              "      <th>6</th>\n",
              "      <td>49</td>\n",
              "      <td>Private</td>\n",
              "      <td>160187</td>\n",
              "      <td>9th</td>\n",
              "      <td>5</td>\n",
              "      <td>Married-spouse-absent</td>\n",
              "      <td>Other-service</td>\n",
              "      <td>Not-in-family</td>\n",
              "      <td>Black</td>\n",
              "      <td>Female</td>\n",
              "      <td>0</td>\n",
              "      <td>0</td>\n",
              "      <td>16</td>\n",
              "      <td>Jamaica</td>\n",
              "      <td>&lt;=50K</td>\n",
              "    </tr>\n",
              "    <tr>\n",
              "      <th>7</th>\n",
              "      <td>52</td>\n",
              "      <td>Self-emp-not-inc</td>\n",
              "      <td>209642</td>\n",
              "      <td>HS-grad</td>\n",
              "      <td>9</td>\n",
              "      <td>Married-civ-spouse</td>\n",
              "      <td>Exec-managerial</td>\n",
              "      <td>Husband</td>\n",
              "      <td>White</td>\n",
              "      <td>Male</td>\n",
              "      <td>0</td>\n",
              "      <td>0</td>\n",
              "      <td>45</td>\n",
              "      <td>United-States</td>\n",
              "      <td>&gt;50K</td>\n",
              "    </tr>\n",
              "    <tr>\n",
              "      <th>8</th>\n",
              "      <td>31</td>\n",
              "      <td>Private</td>\n",
              "      <td>45781</td>\n",
              "      <td>Masters</td>\n",
              "      <td>14</td>\n",
              "      <td>Never-married</td>\n",
              "      <td>Prof-specialty</td>\n",
              "      <td>Not-in-family</td>\n",
              "      <td>White</td>\n",
              "      <td>Female</td>\n",
              "      <td>14084</td>\n",
              "      <td>0</td>\n",
              "      <td>50</td>\n",
              "      <td>United-States</td>\n",
              "      <td>&gt;50K</td>\n",
              "    </tr>\n",
              "    <tr>\n",
              "      <th>9</th>\n",
              "      <td>42</td>\n",
              "      <td>Private</td>\n",
              "      <td>159449</td>\n",
              "      <td>Bachelors</td>\n",
              "      <td>13</td>\n",
              "      <td>Married-civ-spouse</td>\n",
              "      <td>Exec-managerial</td>\n",
              "      <td>Husband</td>\n",
              "      <td>White</td>\n",
              "      <td>Male</td>\n",
              "      <td>5178</td>\n",
              "      <td>0</td>\n",
              "      <td>40</td>\n",
              "      <td>United-States</td>\n",
              "      <td>&gt;50K</td>\n",
              "    </tr>\n",
              "  </tbody>\n",
              "</table>\n",
              "</div>\n",
              "    <div class=\"colab-df-buttons\">\n",
              "\n",
              "  <div class=\"colab-df-container\">\n",
              "    <button class=\"colab-df-convert\" onclick=\"convertToInteractive('df-cd46797d-1797-4a42-b5fe-b20e7bc4e293')\"\n",
              "            title=\"Convert this dataframe to an interactive table.\"\n",
              "            style=\"display:none;\">\n",
              "\n",
              "  <svg xmlns=\"http://www.w3.org/2000/svg\" height=\"24px\" viewBox=\"0 -960 960 960\">\n",
              "    <path d=\"M120-120v-720h720v720H120Zm60-500h600v-160H180v160Zm220 220h160v-160H400v160Zm0 220h160v-160H400v160ZM180-400h160v-160H180v160Zm440 0h160v-160H620v160ZM180-180h160v-160H180v160Zm440 0h160v-160H620v160Z\"/>\n",
              "  </svg>\n",
              "    </button>\n",
              "\n",
              "  <style>\n",
              "    .colab-df-container {\n",
              "      display:flex;\n",
              "      gap: 12px;\n",
              "    }\n",
              "\n",
              "    .colab-df-convert {\n",
              "      background-color: #E8F0FE;\n",
              "      border: none;\n",
              "      border-radius: 50%;\n",
              "      cursor: pointer;\n",
              "      display: none;\n",
              "      fill: #1967D2;\n",
              "      height: 32px;\n",
              "      padding: 0 0 0 0;\n",
              "      width: 32px;\n",
              "    }\n",
              "\n",
              "    .colab-df-convert:hover {\n",
              "      background-color: #E2EBFA;\n",
              "      box-shadow: 0px 1px 2px rgba(60, 64, 67, 0.3), 0px 1px 3px 1px rgba(60, 64, 67, 0.15);\n",
              "      fill: #174EA6;\n",
              "    }\n",
              "\n",
              "    .colab-df-buttons div {\n",
              "      margin-bottom: 4px;\n",
              "    }\n",
              "\n",
              "    [theme=dark] .colab-df-convert {\n",
              "      background-color: #3B4455;\n",
              "      fill: #D2E3FC;\n",
              "    }\n",
              "\n",
              "    [theme=dark] .colab-df-convert:hover {\n",
              "      background-color: #434B5C;\n",
              "      box-shadow: 0px 1px 3px 1px rgba(0, 0, 0, 0.15);\n",
              "      filter: drop-shadow(0px 1px 2px rgba(0, 0, 0, 0.3));\n",
              "      fill: #FFFFFF;\n",
              "    }\n",
              "  </style>\n",
              "\n",
              "    <script>\n",
              "      const buttonEl =\n",
              "        document.querySelector('#df-cd46797d-1797-4a42-b5fe-b20e7bc4e293 button.colab-df-convert');\n",
              "      buttonEl.style.display =\n",
              "        google.colab.kernel.accessAllowed ? 'block' : 'none';\n",
              "\n",
              "      async function convertToInteractive(key) {\n",
              "        const element = document.querySelector('#df-cd46797d-1797-4a42-b5fe-b20e7bc4e293');\n",
              "        const dataTable =\n",
              "          await google.colab.kernel.invokeFunction('convertToInteractive',\n",
              "                                                    [key], {});\n",
              "        if (!dataTable) return;\n",
              "\n",
              "        const docLinkHtml = 'Like what you see? Visit the ' +\n",
              "          '<a target=\"_blank\" href=https://colab.research.google.com/notebooks/data_table.ipynb>data table notebook</a>'\n",
              "          + ' to learn more about interactive tables.';\n",
              "        element.innerHTML = '';\n",
              "        dataTable['output_type'] = 'display_data';\n",
              "        await google.colab.output.renderOutput(dataTable, element);\n",
              "        const docLink = document.createElement('div');\n",
              "        docLink.innerHTML = docLinkHtml;\n",
              "        element.appendChild(docLink);\n",
              "      }\n",
              "    </script>\n",
              "  </div>\n",
              "\n",
              "\n",
              "    <div id=\"df-ba0f1cd5-a649-47a0-ba73-8f42ac7c6f08\">\n",
              "      <button class=\"colab-df-quickchart\" onclick=\"quickchart('df-ba0f1cd5-a649-47a0-ba73-8f42ac7c6f08')\"\n",
              "                title=\"Suggest charts\"\n",
              "                style=\"display:none;\">\n",
              "\n",
              "<svg xmlns=\"http://www.w3.org/2000/svg\" height=\"24px\"viewBox=\"0 0 24 24\"\n",
              "     width=\"24px\">\n",
              "    <g>\n",
              "        <path d=\"M19 3H5c-1.1 0-2 .9-2 2v14c0 1.1.9 2 2 2h14c1.1 0 2-.9 2-2V5c0-1.1-.9-2-2-2zM9 17H7v-7h2v7zm4 0h-2V7h2v10zm4 0h-2v-4h2v4z\"/>\n",
              "    </g>\n",
              "</svg>\n",
              "      </button>\n",
              "\n",
              "<style>\n",
              "  .colab-df-quickchart {\n",
              "      --bg-color: #E8F0FE;\n",
              "      --fill-color: #1967D2;\n",
              "      --hover-bg-color: #E2EBFA;\n",
              "      --hover-fill-color: #174EA6;\n",
              "      --disabled-fill-color: #AAA;\n",
              "      --disabled-bg-color: #DDD;\n",
              "  }\n",
              "\n",
              "  [theme=dark] .colab-df-quickchart {\n",
              "      --bg-color: #3B4455;\n",
              "      --fill-color: #D2E3FC;\n",
              "      --hover-bg-color: #434B5C;\n",
              "      --hover-fill-color: #FFFFFF;\n",
              "      --disabled-bg-color: #3B4455;\n",
              "      --disabled-fill-color: #666;\n",
              "  }\n",
              "\n",
              "  .colab-df-quickchart {\n",
              "    background-color: var(--bg-color);\n",
              "    border: none;\n",
              "    border-radius: 50%;\n",
              "    cursor: pointer;\n",
              "    display: none;\n",
              "    fill: var(--fill-color);\n",
              "    height: 32px;\n",
              "    padding: 0;\n",
              "    width: 32px;\n",
              "  }\n",
              "\n",
              "  .colab-df-quickchart:hover {\n",
              "    background-color: var(--hover-bg-color);\n",
              "    box-shadow: 0 1px 2px rgba(60, 64, 67, 0.3), 0 1px 3px 1px rgba(60, 64, 67, 0.15);\n",
              "    fill: var(--button-hover-fill-color);\n",
              "  }\n",
              "\n",
              "  .colab-df-quickchart-complete:disabled,\n",
              "  .colab-df-quickchart-complete:disabled:hover {\n",
              "    background-color: var(--disabled-bg-color);\n",
              "    fill: var(--disabled-fill-color);\n",
              "    box-shadow: none;\n",
              "  }\n",
              "\n",
              "  .colab-df-spinner {\n",
              "    border: 2px solid var(--fill-color);\n",
              "    border-color: transparent;\n",
              "    border-bottom-color: var(--fill-color);\n",
              "    animation:\n",
              "      spin 1s steps(1) infinite;\n",
              "  }\n",
              "\n",
              "  @keyframes spin {\n",
              "    0% {\n",
              "      border-color: transparent;\n",
              "      border-bottom-color: var(--fill-color);\n",
              "      border-left-color: var(--fill-color);\n",
              "    }\n",
              "    20% {\n",
              "      border-color: transparent;\n",
              "      border-left-color: var(--fill-color);\n",
              "      border-top-color: var(--fill-color);\n",
              "    }\n",
              "    30% {\n",
              "      border-color: transparent;\n",
              "      border-left-color: var(--fill-color);\n",
              "      border-top-color: var(--fill-color);\n",
              "      border-right-color: var(--fill-color);\n",
              "    }\n",
              "    40% {\n",
              "      border-color: transparent;\n",
              "      border-right-color: var(--fill-color);\n",
              "      border-top-color: var(--fill-color);\n",
              "    }\n",
              "    60% {\n",
              "      border-color: transparent;\n",
              "      border-right-color: var(--fill-color);\n",
              "    }\n",
              "    80% {\n",
              "      border-color: transparent;\n",
              "      border-right-color: var(--fill-color);\n",
              "      border-bottom-color: var(--fill-color);\n",
              "    }\n",
              "    90% {\n",
              "      border-color: transparent;\n",
              "      border-bottom-color: var(--fill-color);\n",
              "    }\n",
              "  }\n",
              "</style>\n",
              "\n",
              "      <script>\n",
              "        async function quickchart(key) {\n",
              "          const quickchartButtonEl =\n",
              "            document.querySelector('#' + key + ' button');\n",
              "          quickchartButtonEl.disabled = true;  // To prevent multiple clicks.\n",
              "          quickchartButtonEl.classList.add('colab-df-spinner');\n",
              "          try {\n",
              "            const charts = await google.colab.kernel.invokeFunction(\n",
              "                'suggestCharts', [key], {});\n",
              "          } catch (error) {\n",
              "            console.error('Error during call to suggestCharts:', error);\n",
              "          }\n",
              "          quickchartButtonEl.classList.remove('colab-df-spinner');\n",
              "          quickchartButtonEl.classList.add('colab-df-quickchart-complete');\n",
              "        }\n",
              "        (() => {\n",
              "          let quickchartButtonEl =\n",
              "            document.querySelector('#df-ba0f1cd5-a649-47a0-ba73-8f42ac7c6f08 button');\n",
              "          quickchartButtonEl.style.display =\n",
              "            google.colab.kernel.accessAllowed ? 'block' : 'none';\n",
              "        })();\n",
              "      </script>\n",
              "    </div>\n",
              "\n",
              "    </div>\n",
              "  </div>\n"
            ],
            "application/vnd.google.colaboratory.intrinsic+json": {
              "type": "dataframe",
              "variable_name": "df_adult",
              "summary": "{\n  \"name\": \"df_adult\",\n  \"rows\": 48842,\n  \"fields\": [\n    {\n      \"column\": \"age\",\n      \"properties\": {\n        \"dtype\": \"number\",\n        \"std\": 13,\n        \"min\": 17,\n        \"max\": 90,\n        \"num_unique_values\": 74,\n        \"samples\": [\n          28,\n          73,\n          35\n        ],\n        \"semantic_type\": \"\",\n        \"description\": \"\"\n      }\n    },\n    {\n      \"column\": \"workclass\",\n      \"properties\": {\n        \"dtype\": \"category\",\n        \"num_unique_values\": 9,\n        \"samples\": [\n          \"Without-pay\",\n          \"Self-emp-not-inc\",\n          \"?\"\n        ],\n        \"semantic_type\": \"\",\n        \"description\": \"\"\n      }\n    },\n    {\n      \"column\": \"fnlwgt\",\n      \"properties\": {\n        \"dtype\": \"number\",\n        \"std\": 105604,\n        \"min\": 12285,\n        \"max\": 1490400,\n        \"num_unique_values\": 28523,\n        \"samples\": [\n          159077,\n          199450,\n          181773\n        ],\n        \"semantic_type\": \"\",\n        \"description\": \"\"\n      }\n    },\n    {\n      \"column\": \"education\",\n      \"properties\": {\n        \"dtype\": \"category\",\n        \"num_unique_values\": 16,\n        \"samples\": [\n          \"Bachelors\",\n          \"HS-grad\",\n          \"Some-college\"\n        ],\n        \"semantic_type\": \"\",\n        \"description\": \"\"\n      }\n    },\n    {\n      \"column\": \"education-num\",\n      \"properties\": {\n        \"dtype\": \"number\",\n        \"std\": 2,\n        \"min\": 1,\n        \"max\": 16,\n        \"num_unique_values\": 16,\n        \"samples\": [\n          13,\n          9,\n          10\n        ],\n        \"semantic_type\": \"\",\n        \"description\": \"\"\n      }\n    },\n    {\n      \"column\": \"marital-status\",\n      \"properties\": {\n        \"dtype\": \"category\",\n        \"num_unique_values\": 7,\n        \"samples\": [\n          \"Never-married\",\n          \"Married-civ-spouse\",\n          \"Married-AF-spouse\"\n        ],\n        \"semantic_type\": \"\",\n        \"description\": \"\"\n      }\n    },\n    {\n      \"column\": \"occupation\",\n      \"properties\": {\n        \"dtype\": \"category\",\n        \"num_unique_values\": 15,\n        \"samples\": [\n          \"Machine-op-inspct\",\n          \"?\",\n          \"Adm-clerical\"\n        ],\n        \"semantic_type\": \"\",\n        \"description\": \"\"\n      }\n    },\n    {\n      \"column\": \"relationship\",\n      \"properties\": {\n        \"dtype\": \"category\",\n        \"num_unique_values\": 6,\n        \"samples\": [\n          \"Not-in-family\",\n          \"Husband\",\n          \"Other-relative\"\n        ],\n        \"semantic_type\": \"\",\n        \"description\": \"\"\n      }\n    },\n    {\n      \"column\": \"race\",\n      \"properties\": {\n        \"dtype\": \"category\",\n        \"num_unique_values\": 5,\n        \"samples\": [\n          \"Black\",\n          \"Other\",\n          \"Asian-Pac-Islander\"\n        ],\n        \"semantic_type\": \"\",\n        \"description\": \"\"\n      }\n    },\n    {\n      \"column\": \"sex\",\n      \"properties\": {\n        \"dtype\": \"category\",\n        \"num_unique_values\": 2,\n        \"samples\": [\n          \"Female\",\n          \"Male\"\n        ],\n        \"semantic_type\": \"\",\n        \"description\": \"\"\n      }\n    },\n    {\n      \"column\": \"capital-gain\",\n      \"properties\": {\n        \"dtype\": \"number\",\n        \"std\": 7452,\n        \"min\": 0,\n        \"max\": 99999,\n        \"num_unique_values\": 123,\n        \"samples\": [\n          2176,\n          10520\n        ],\n        \"semantic_type\": \"\",\n        \"description\": \"\"\n      }\n    },\n    {\n      \"column\": \"capital-loss\",\n      \"properties\": {\n        \"dtype\": \"number\",\n        \"std\": 403,\n        \"min\": 0,\n        \"max\": 4356,\n        \"num_unique_values\": 99,\n        \"samples\": [\n          1974,\n          419\n        ],\n        \"semantic_type\": \"\",\n        \"description\": \"\"\n      }\n    },\n    {\n      \"column\": \"hours-per-week\",\n      \"properties\": {\n        \"dtype\": \"number\",\n        \"std\": 12,\n        \"min\": 1,\n        \"max\": 99,\n        \"num_unique_values\": 96,\n        \"samples\": [\n          97,\n          88\n        ],\n        \"semantic_type\": \"\",\n        \"description\": \"\"\n      }\n    },\n    {\n      \"column\": \"native-country\",\n      \"properties\": {\n        \"dtype\": \"category\",\n        \"num_unique_values\": 42,\n        \"samples\": [\n          \"El-Salvador\",\n          \"Philippines\"\n        ],\n        \"semantic_type\": \"\",\n        \"description\": \"\"\n      }\n    },\n    {\n      \"column\": \"income\",\n      \"properties\": {\n        \"dtype\": \"category\",\n        \"num_unique_values\": 4,\n        \"samples\": [\n          \">50K\",\n          \">50K.\"\n        ],\n        \"semantic_type\": \"\",\n        \"description\": \"\"\n      }\n    }\n  ]\n}"
            }
          },
          "metadata": {},
          "execution_count": 15
        }
      ]
    },
    {
      "cell_type": "code",
      "source": [
        "# Dataset Rows & Columns count:\n",
        "print(f\"Number of Rows : {df_adult.shape[0]}\")\n",
        "print(f\"Number of Columns : {df_adult.shape[1]}\")"
      ],
      "metadata": {
        "colab": {
          "base_uri": "https://localhost:8080/"
        },
        "id": "lyMBEdvlwWGo",
        "outputId": "2a8f4893-2f85-413e-8ba4-c6d6358e5323"
      },
      "execution_count": 19,
      "outputs": [
        {
          "output_type": "stream",
          "name": "stdout",
          "text": [
            "Number of Rows : 48842\n",
            "Number of Columns : 15\n"
          ]
        }
      ]
    },
    {
      "cell_type": "markdown",
      "source": [
        "# Tasks\n",
        "\n",
        "Your task is to apply the **5 steps of feature preparation** to this dataset.\n",
        "\n",
        "## Step 1. Handling Missing Values ❓\n",
        "\n",
        "* Identify which columns contain missing values.\n",
        "* Decide: should you drop rows/columns, or **impute (fill in)** the values?\n",
        "* If imputing, what strategy makes sense for **numeric vs categorical features**?"
      ],
      "metadata": {
        "id": "Kn4DhA0KofaY"
      }
    },
    {
      "cell_type": "code",
      "source": [
        "df_adult.isnull().sum()"
      ],
      "metadata": {
        "colab": {
          "base_uri": "https://localhost:8080/",
          "height": 555
        },
        "id": "EurzrmzDuuQa",
        "outputId": "39479fda-9ced-4f43-d09b-31525f00e8c5"
      },
      "execution_count": 20,
      "outputs": [
        {
          "output_type": "execute_result",
          "data": {
            "text/plain": [
              "age                 0\n",
              "workclass         963\n",
              "fnlwgt              0\n",
              "education           0\n",
              "education-num       0\n",
              "marital-status      0\n",
              "occupation        966\n",
              "relationship        0\n",
              "race                0\n",
              "sex                 0\n",
              "capital-gain        0\n",
              "capital-loss        0\n",
              "hours-per-week      0\n",
              "native-country    274\n",
              "income              0\n",
              "dtype: int64"
            ],
            "text/html": [
              "<div>\n",
              "<style scoped>\n",
              "    .dataframe tbody tr th:only-of-type {\n",
              "        vertical-align: middle;\n",
              "    }\n",
              "\n",
              "    .dataframe tbody tr th {\n",
              "        vertical-align: top;\n",
              "    }\n",
              "\n",
              "    .dataframe thead th {\n",
              "        text-align: right;\n",
              "    }\n",
              "</style>\n",
              "<table border=\"1\" class=\"dataframe\">\n",
              "  <thead>\n",
              "    <tr style=\"text-align: right;\">\n",
              "      <th></th>\n",
              "      <th>0</th>\n",
              "    </tr>\n",
              "  </thead>\n",
              "  <tbody>\n",
              "    <tr>\n",
              "      <th>age</th>\n",
              "      <td>0</td>\n",
              "    </tr>\n",
              "    <tr>\n",
              "      <th>workclass</th>\n",
              "      <td>963</td>\n",
              "    </tr>\n",
              "    <tr>\n",
              "      <th>fnlwgt</th>\n",
              "      <td>0</td>\n",
              "    </tr>\n",
              "    <tr>\n",
              "      <th>education</th>\n",
              "      <td>0</td>\n",
              "    </tr>\n",
              "    <tr>\n",
              "      <th>education-num</th>\n",
              "      <td>0</td>\n",
              "    </tr>\n",
              "    <tr>\n",
              "      <th>marital-status</th>\n",
              "      <td>0</td>\n",
              "    </tr>\n",
              "    <tr>\n",
              "      <th>occupation</th>\n",
              "      <td>966</td>\n",
              "    </tr>\n",
              "    <tr>\n",
              "      <th>relationship</th>\n",
              "      <td>0</td>\n",
              "    </tr>\n",
              "    <tr>\n",
              "      <th>race</th>\n",
              "      <td>0</td>\n",
              "    </tr>\n",
              "    <tr>\n",
              "      <th>sex</th>\n",
              "      <td>0</td>\n",
              "    </tr>\n",
              "    <tr>\n",
              "      <th>capital-gain</th>\n",
              "      <td>0</td>\n",
              "    </tr>\n",
              "    <tr>\n",
              "      <th>capital-loss</th>\n",
              "      <td>0</td>\n",
              "    </tr>\n",
              "    <tr>\n",
              "      <th>hours-per-week</th>\n",
              "      <td>0</td>\n",
              "    </tr>\n",
              "    <tr>\n",
              "      <th>native-country</th>\n",
              "      <td>274</td>\n",
              "    </tr>\n",
              "    <tr>\n",
              "      <th>income</th>\n",
              "      <td>0</td>\n",
              "    </tr>\n",
              "  </tbody>\n",
              "</table>\n",
              "</div><br><label><b>dtype:</b> int64</label>"
            ]
          },
          "metadata": {},
          "execution_count": 20
        }
      ]
    },
    {
      "cell_type": "markdown",
      "source": [
        "## 🔍 Step 1 Analysis: Missing Value Status\n",
        "\n",
        "The output shows that three columns (`workclass`, `occupation`, and `native-country`) contain a significant number of missing values (NaN).\n",
        "\n",
        "| Column Name | Missing Count | Data Type | Percentage ($\\mathbf{n} \\approx 32000$) | Action Decision |\n",
        "| :--- | :--- | :--- | :--- | :--- |\n",
        "| **workclass** | 963 | Categorical | $\\approx 3.0\\%$ | Imputation |\n",
        "| **occupation** | 966 | Categorical | $\\approx 3.0\\%$ | Imputation |\n",
        "| **native-country** | 274 | Categorical | $\\approx 0.85\\%$ | Imputation |\n",
        "| **Other Columns** | 0 | Numeric/Categorical | $0\\%$ | No Action Required |\n",
        "\n",
        "### Strategy Rationale:\n",
        "\n",
        "Since the percentage of missing data is low (max 3.0%), **Imputation** is preferred over dropping the rows to preserve the overall dataset size. As all affected columns are **Categorical**, the imputation strategy will involve either using the Mode or assigning a new **\"Unknown\"** category."
      ],
      "metadata": {
        "id": "z2bUEbVuxjg6"
      }
    },
    {
      "cell_type": "code",
      "source": [
        "# Define the categorical columns that require imputation\n",
        "categorical_cols_to_impute = ['workclass', 'occupation', 'native-country']\n",
        "\n",
        "print(\"--- Step 1: Imputing Categorical Columns ---\")\n",
        "\n",
        "# Use .loc to select the columns and apply the .fillna() method\n",
        "# This ensures that we safely assign the new 'Unknown' value to the NaN cells.\n",
        "for col in categorical_cols_to_impute:\n",
        "    df_adult.loc[:, col] = df_adult[col].fillna('Unknown')\n",
        "    print(f\"✅ Column '{col}' imputed with 'Unknown'.\")\n",
        "\n",
        "# ------------------------------------------------------------\n",
        "# Verification\n",
        "# ------------------------------------------------------------\n",
        "print(\"\\n--- Verification: Missing Value Count After Imputation ---\")\n",
        "# Now, the sum of null values for these columns should be zero.\n",
        "print(df_adult[categorical_cols_to_impute].isnull().sum())\n",
        "\n",
        "print(\"\\n--- Quick Data Check (First 5 Rows) ---\")\n",
        "# Display the first few rows and the unique values for one column\n",
        "print(df_adult[['workclass', 'occupation', 'native-country']].head())"
      ],
      "metadata": {
        "colab": {
          "base_uri": "https://localhost:8080/"
        },
        "id": "cAgXsAQixerx",
        "outputId": "2c23cac7-d58e-4aaa-fdf2-ecaf864a607b"
      },
      "execution_count": 21,
      "outputs": [
        {
          "output_type": "stream",
          "name": "stdout",
          "text": [
            "--- Step 1: Imputing Categorical Columns ---\n",
            "✅ Column 'workclass' imputed with 'Unknown'.\n",
            "✅ Column 'occupation' imputed with 'Unknown'.\n",
            "✅ Column 'native-country' imputed with 'Unknown'.\n",
            "\n",
            "--- Verification: Missing Value Count After Imputation ---\n",
            "workclass         0\n",
            "occupation        0\n",
            "native-country    0\n",
            "dtype: int64\n",
            "\n",
            "--- Quick Data Check (First 5 Rows) ---\n",
            "          workclass         occupation native-country\n",
            "0         State-gov       Adm-clerical  United-States\n",
            "1  Self-emp-not-inc    Exec-managerial  United-States\n",
            "2           Private  Handlers-cleaners  United-States\n",
            "3           Private  Handlers-cleaners  United-States\n",
            "4           Private     Prof-specialty           Cuba\n"
          ]
        }
      ]
    },
    {
      "cell_type": "markdown",
      "source": [
        "## Step 2. Handling Outliers ❗\n",
        "\n",
        "* Explore the **numeric features**.\n",
        "* Use summary statistics and visualizations (e.g., **histograms, boxplots**) to detect extreme values.\n",
        "* Apply the **IQR method** or another method to set thresholds.\n",
        "* Decide: **remove, cap, or transform** outliers."
      ],
      "metadata": {
        "id": "vrW7L8JQok9g"
      }
    },
    {
      "cell_type": "markdown",
      "source": [
        "## 🔍 Initial Analysis on Outliers\n",
        "**From Dataset First View:** df_adult.describe()\n",
        "\n",
        "\n",
        "By examining the differences between the minimum, maximum, and quartile values in the following columns, we can detect potential anomalies.\n",
        "\n",
        "| Column Name | Observation | Potential Outliers According to IQR Rule |\n",
        "| :--- | :--- | :--- |\n",
        "| **capital-gain** 💸 | `max` = 99999.00 | **HIGHLY LIKELY OUTLIERS.** There is a huge difference between the maximum value (99999) and the 75th percentile (0.00). This indicates that the vast majority of the data is 0, but a tiny fraction reports extremely high gains. |\n",
        "| **capital-loss** 📉 | `max` = 4356.00 | **HIGHLY LIKELY OUTLIERS.** Similar to `capital-gain`, the 75th percentile is 0, but the maximum value is quite high. |\n",
        "| **fnlwgt** | `max` = 1.49M | **PROBABLE EXTREME VALUES.** The range between Min and Max is very wide. The maximum value is far from the mean (1.89e+05), suggesting the data is **right-skewed** and contains a few highly weighted records. |\n",
        "| **age** | `min` = 17.00, `max` = 90.00 | **LOW PROBABILITY OF ERRORS.** The minimum (17) and maximum (90) ages are plausible for the dataset. However, how far the 90 value is from the 75th percentile (48) should be confirmed visually (Boxplot). |\n",
        "| **hours-per-week** 🕒 | `min` = 1.00, `max` = 99.00 | **PROBABLE EXTREME VALUES.** Both the minimum (1 hour) and maximum (99 hours/week) are far from the mean (40.42) and the 25%-75% range (40-45 hours). 99 hours/week may be an outlier work duration. |"
      ],
      "metadata": {
        "id": "pmQfl33q0Al8"
      }
    },
    {
      "cell_type": "code",
      "source": [
        "# Columns identified for visualization\n",
        "outlier_cols = ['capital-gain', 'hours-per-week']\n",
        "\n",
        "plt.figure(figsize=(15, 5))\n",
        "for i, col in enumerate(outlier_cols):\n",
        "    plt.subplot(1, 2, i + 1)\n",
        "    sns.boxplot(y=df_adult[col])\n",
        "    plt.title(f'Boxplot for {col.upper()} (Before Capping)')\n",
        "    plt.ylabel(col)\n",
        "plt.tight_layout()\n",
        "plt.show()"
      ],
      "metadata": {
        "colab": {
          "base_uri": "https://localhost:8080/",
          "height": 507
        },
        "id": "2CkZwtAOosDl",
        "outputId": "c324f7a8-6598-40cc-e3f8-3622e1008bb6"
      },
      "execution_count": 22,
      "outputs": [
        {
          "output_type": "display_data",
          "data": {
            "text/plain": [
              "<Figure size 1500x500 with 2 Axes>"
            ],
            "image/png": "[encoded data removed]"
          },
          "metadata": {}
        }
      ]
    },
    {
      "cell_type": "markdown",
      "source": [
        "**2. Implement IQR Capping Function**\n",
        "\n",
        "* We define a function to calculate the upper and lower bounds using the 1.5×IQR rule. For most of these financial columns (where values are 0), we only need to worry about the upper cap."
      ],
      "metadata": {
        "id": "W9ij2cyo1ZXU"
      }
    },
    {
      "cell_type": "code",
      "source": [
        "def iqr_capper(df, col, factor=1.5):\n",
        "    \"\"\"Calculates IQR bounds and returns the upper limit for capping.\"\"\"\n",
        "    Q1 = df[col].quantile(0.25)\n",
        "    Q3 = df[col].quantile(0.75)\n",
        "    IQR = Q3 - Q1\n",
        "    upper_bound = Q3 + factor * IQR\n",
        "    lower_bound = Q1 - factor * IQR\n",
        "\n",
        "    # We will use the calculated upper bound for capping\n",
        "    return upper_bound, lower_bound\n",
        "\n",
        "# Columns to apply capping\n",
        "cols_to_cap = ['capital-gain', 'capital-loss', 'fnlwgt', 'hours-per-week', 'age']\n",
        "# 'age' is included for completeness, although its outliers are less extreme"
      ],
      "metadata": {
        "id": "p5gJ4JOo1foF"
      },
      "execution_count": 23,
      "outputs": []
    },
    {
      "cell_type": "markdown",
      "source": [
        "**3. Apply Capping (Winsorization) to Numeric Features**\n",
        "\n",
        "* We iterate through the identified columns and apply the capping strategy. This is a crucial step to preserve the high number of rows while mitigating the outlier's distorting effect."
      ],
      "metadata": {
        "id": "gWRmfUdf1tL0"
      }
    },
    {
      "cell_type": "code",
      "source": [
        "\n",
        "for col in cols_to_cap:\n",
        "    # Calculate bounds for the current column\n",
        "    upper, lower = iqr_capper(df_adult, col)\n",
        "\n",
        "    # Implement Capping using .loc for safe assignment\n",
        "    # Values above the upper bound are replaced by the upper bound\n",
        "    df_adult.loc[df_adult[col] > upper, col] = upper\n",
        "\n",
        "    # Values below the lower bound are replaced by the lower bound (rare for these features)\n",
        "    df_adult.loc[df_adult[col] < lower, col] = lower\n",
        "\n",
        "    print(f\"✅ Capped '{col}' at Upper Threshold: {upper:.2f}\")\n",
        "\n",
        "print(\"\\nOutlier management complete.\")"
      ],
      "metadata": {
        "colab": {
          "base_uri": "https://localhost:8080/"
        },
        "id": "iY-DNoKi1x97",
        "outputId": "1a046136-6e19-484d-8f3d-3baa33eb304b"
      },
      "execution_count": 24,
      "outputs": [
        {
          "output_type": "stream",
          "name": "stdout",
          "text": [
            "✅ Capped 'capital-gain' at Upper Threshold: 0.00\n",
            "✅ Capped 'capital-loss' at Upper Threshold: 0.00\n",
            "✅ Capped 'fnlwgt' at Upper Threshold: 417779.25\n",
            "✅ Capped 'hours-per-week' at Upper Threshold: 52.50\n",
            "✅ Capped 'age' at Upper Threshold: 78.00\n",
            "\n",
            "Outlier management complete.\n"
          ]
        }
      ]
    },
    {
      "cell_type": "markdown",
      "source": [
        "**4. Verification**\n",
        "\n",
        "* We check the descriptive statistics again to confirm that the maximum values for the capped columns are now equal to the calculated upper threshold, successfully completing Step 2."
      ],
      "metadata": {
        "id": "8PChNwRU2Hvw"
      }
    },
    {
      "cell_type": "code",
      "source": [
        "# Check the max row for the affected columns\n",
        "print(df_adult[cols_to_cap].max())\n",
        "\n",
        "# Optionally, re-run the boxplots to see the tighter distribution\n",
        "# (Code omitted for brevity, but highly recommended in a live notebook)"
      ],
      "metadata": {
        "colab": {
          "base_uri": "https://localhost:8080/"
        },
        "id": "cPHE-6NW2G84",
        "outputId": "b2b11328-e96c-41be-968d-c3f899d8e69a"
      },
      "execution_count": 25,
      "outputs": [
        {
          "output_type": "stream",
          "name": "stdout",
          "text": [
            "capital-gain           0.00\n",
            "capital-loss           0.00\n",
            "fnlwgt            417779.25\n",
            "hours-per-week        52.50\n",
            "age                   78.00\n",
            "dtype: float64\n"
          ]
        }
      ]
    },
    {
      "cell_type": "markdown",
      "source": [
        "## Step 3. Handling Categorical Data 🏷️\n",
        "\n",
        "* Find all the **categorical features** in the dataset.\n",
        "* Convert them into **numeric form** so they can be used in models.\n",
        "* Try both `pd.get_dummies()` and `OneHotEncoder`.\n",
        "* Reflect: which method would you use in **production**, and why?"
      ],
      "metadata": {
        "id": "rmwuqH0So3u-"
      }
    },
    {
      "cell_type": "markdown",
      "source": [
        "**1. Identify Categorical Features**\n",
        "\n",
        "* First, let's identify all columns with the object data type, which represent our categorical features (including the target, income)."
      ],
      "metadata": {
        "id": "3JGpIkqy3h59"
      }
    },
    {
      "cell_type": "code",
      "source": [
        "# Identify all columns with 'object' dtype (text/categorical)\n",
        "categorical_cols = df_adult.select_dtypes(include='object').columns.tolist()\n",
        "\n",
        "print(categorical_cols)\n",
        "\n",
        "# Note: The 'income' column is our target variable (y)."
      ],
      "metadata": {
        "colab": {
          "base_uri": "https://localhost:8080/"
        },
        "id": "PqGpB4bho4Hv",
        "outputId": "c22637df-a68e-4623-de76-6aef827e0bc1"
      },
      "execution_count": 27,
      "outputs": [
        {
          "output_type": "stream",
          "name": "stdout",
          "text": [
            "['workclass', 'education', 'marital-status', 'occupation', 'relationship', 'race', 'sex', 'native-country', 'income']\n"
          ]
        }
      ]
    },
    {
      "cell_type": "markdown",
      "source": [
        " **2. Prepare the Target Variable (income)**\n",
        "\n",
        "* The target variable must be converted to a binary numeric form (0 and 1) for classification."
      ],
      "metadata": {
        "id": "heSA78cU3pVa"
      }
    },
    {
      "cell_type": "code",
      "source": [
        "# Convert the target variable 'income' to 0 and 1 (Binary Encoding)\n",
        "# '<=50K' is typically the negative class (0), and '>50K' is the positive class (1).\n",
        "df_adult['income'] = df_adult['income'].replace({'<=50K': 0, '>50K': 1})\n",
        "\n",
        "print(\"\\n✅ Target variable 'income' converted to numeric (0 and 1).\")"
      ],
      "metadata": {
        "colab": {
          "base_uri": "https://localhost:8080/"
        },
        "id": "tUX9YpDh31-9",
        "outputId": "8e32600b-a512-44ac-a95b-cb2aa62bfc2c"
      },
      "execution_count": 28,
      "outputs": [
        {
          "output_type": "stream",
          "name": "stdout",
          "text": [
            "\n",
            "✅ Target variable 'income' converted to numeric (0 and 1).\n"
          ]
        }
      ]
    },
    {
      "cell_type": "markdown",
      "source": [
        "**3. Encoding Nominal Features (The Core Task)**\n",
        "\n",
        "* We will now encode all remaining categorical features (excluding the target income). Since all these features (workclass, occupation, etc.) are Nominal (no inherent order), One-Hot Encoding is the appropriate method."
      ],
      "metadata": {
        "id": "hr0HbKgv4EXm"
      }
    },
    {
      "cell_type": "code",
      "source": [
        "# List of features to be encoded (excluding the already handled 'income')\n",
        "nominal_features = [col for col in categorical_cols if col != 'income']\n",
        "\n",
        "# Applying pd.get_dummies()\n",
        "df_dummies = pd.get_dummies(df_adult[nominal_features], drop_first=True)\n",
        "\n",
        "print(\"\\n--- Method A: pd.get_dummies() Output Shape ---\")\n",
        "print(f\"Shape: {df_dummies.shape}\")"
      ],
      "metadata": {
        "colab": {
          "base_uri": "https://localhost:8080/"
        },
        "id": "__ps11f64H09",
        "outputId": "4fee089e-1021-4404-ee90-14e98aac6069"
      },
      "execution_count": 29,
      "outputs": [
        {
          "output_type": "stream",
          "name": "stdout",
          "text": [
            "\n",
            "--- Method A: pd.get_dummies() Output Shape ---\n",
            "Shape: (48842, 97)\n"
          ]
        }
      ]
    },
    {
      "cell_type": "code",
      "source": [
        "# 1. Initialize Encoder\n",
        "# handle_unknown='ignore' prevents errors if unseen categories appear in the test set.\n",
        "# sparse_output=False ensures a dense NumPy array output.\n",
        "encoder = OneHotEncoder(drop='first', sparse_output=False, handle_unknown='ignore')\n",
        "\n",
        "# 2. Fit and Transform\n",
        "# Note: X_train would typically be used for fitting, but here we fit on the full feature set.\n",
        "encoded_array = encoder.fit_transform(df_adult[nominal_features])\n",
        "\n",
        "# 3. Convert to DataFrame and Finalize\n",
        "encoded_df = pd.DataFrame(\n",
        "    encoded_array,\n",
        "    columns=encoder.get_feature_names_out(nominal_features),\n",
        "    index=df_adult.index # Align index for correct concatenation\n",
        ")\n",
        "\n",
        "# 4. Final Data Concatenation\n",
        "# Drop the original text columns and concatenate the new encoded columns\n",
        "df_adult.drop(columns=nominal_features, inplace=True)\n",
        "df_adult = pd.concat([df_adult, encoded_df], axis=1)\n",
        "\n",
        "print(\"✅ Final encoding with OneHotEncoder is complete.\")\n",
        "print(f\"Final DataFrame shape: {df_adult.shape}\")"
      ],
      "metadata": {
        "colab": {
          "base_uri": "https://localhost:8080/"
        },
        "id": "QpTXRlbh4d1d",
        "outputId": "1d6d21a1-13e0-40ad-bc00-3c5fb72443d1"
      },
      "execution_count": 31,
      "outputs": [
        {
          "output_type": "stream",
          "name": "stdout",
          "text": [
            "✅ Final encoding with OneHotEncoder is complete.\n",
            "Final DataFrame shape: (48842, 104)\n"
          ]
        }
      ]
    },
    {
      "cell_type": "markdown",
      "source": [
        "## Step 4. Feature Scaling ⚖️\n",
        "\n",
        "[Step 4: Feature Scaling ⚖- Github](https://github.com/hgabrali/Hands-on-Mini-Project-Feature-Preparation-on-the-Adult-Income-Dataset/blob/main/Step%204:%20Feature%20Scaling.md)\n",
        "\n",
        "* Pick several **numeric features**.\n",
        "* Apply different scaling methods (**Min-Max**, **Standardization**).\n",
        "* Compare before and after.\n",
        "* Which method do you think is most appropriate here?"
      ],
      "metadata": {
        "id": "cM-2w1Oeo_EB"
      }
    },
    {
      "cell_type": "markdown",
      "source": [
        "**1. Identify Numeric Features to Scale**\n",
        "\n",
        "*We select all integer and float columns, excluding the target variable (income)."
      ],
      "metadata": {
        "id": "H7JxeLtf6Vts"
      }
    },
    {
      "cell_type": "code",
      "source": [
        "# Identify all numeric columns (int64 and float64) excluding the target 'income'\n",
        "numeric_cols = df_adult.select_dtypes(include=['int64', 'float64']).columns.tolist()\n",
        "numeric_features_to_scale = [col for col in numeric_cols if col != 'income']\n",
        "\n",
        "print(f\"Numeric features identified for scaling: {numeric_features_to_scale}\")\n",
        "\n",
        "# Create separate DataFrames for each scaling method for easy comparison\n",
        "df_scaled_standard = df_adult.copy()\n",
        "df_scaled_minmax = df_adult.copy()"
      ],
      "metadata": {
        "colab": {
          "base_uri": "https://localhost:8080/"
        },
        "id": "4cSYexnio_sY",
        "outputId": "58ccc651-5865-4485-9b12-838282dd318f"
      },
      "execution_count": 33,
      "outputs": [
        {
          "output_type": "stream",
          "name": "stdout",
          "text": [
            "Numeric features identified for scaling: ['age', 'fnlwgt', 'education-num', 'capital-gain', 'capital-loss', 'hours-per-week', 'workclass_Federal-gov', 'workclass_Local-gov', 'workclass_Never-worked', 'workclass_Private', 'workclass_Self-emp-inc', 'workclass_Self-emp-not-inc', 'workclass_State-gov', 'workclass_Unknown', 'workclass_Without-pay', 'education_11th', 'education_12th', 'education_1st-4th', 'education_5th-6th', 'education_7th-8th', 'education_9th', 'education_Assoc-acdm', 'education_Assoc-voc', 'education_Bachelors', 'education_Doctorate', 'education_HS-grad', 'education_Masters', 'education_Preschool', 'education_Prof-school', 'education_Some-college', 'marital-status_Married-AF-spouse', 'marital-status_Married-civ-spouse', 'marital-status_Married-spouse-absent', 'marital-status_Never-married', 'marital-status_Separated', 'marital-status_Widowed', 'occupation_Adm-clerical', 'occupation_Armed-Forces', 'occupation_Craft-repair', 'occupation_Exec-managerial', 'occupation_Farming-fishing', 'occupation_Handlers-cleaners', 'occupation_Machine-op-inspct', 'occupation_Other-service', 'occupation_Priv-house-serv', 'occupation_Prof-specialty', 'occupation_Protective-serv', 'occupation_Sales', 'occupation_Tech-support', 'occupation_Transport-moving', 'occupation_Unknown', 'relationship_Not-in-family', 'relationship_Other-relative', 'relationship_Own-child', 'relationship_Unmarried', 'relationship_Wife', 'race_Asian-Pac-Islander', 'race_Black', 'race_Other', 'race_White', 'sex_Male', 'native-country_Cambodia', 'native-country_Canada', 'native-country_China', 'native-country_Columbia', 'native-country_Cuba', 'native-country_Dominican-Republic', 'native-country_Ecuador', 'native-country_El-Salvador', 'native-country_England', 'native-country_France', 'native-country_Germany', 'native-country_Greece', 'native-country_Guatemala', 'native-country_Haiti', 'native-country_Holand-Netherlands', 'native-country_Honduras', 'native-country_Hong', 'native-country_Hungary', 'native-country_India', 'native-country_Iran', 'native-country_Ireland', 'native-country_Italy', 'native-country_Jamaica', 'native-country_Japan', 'native-country_Laos', 'native-country_Mexico', 'native-country_Nicaragua', 'native-country_Outlying-US(Guam-USVI-etc)', 'native-country_Peru', 'native-country_Philippines', 'native-country_Poland', 'native-country_Portugal', 'native-country_Puerto-Rico', 'native-country_Scotland', 'native-country_South', 'native-country_Taiwan', 'native-country_Thailand', 'native-country_Trinadad&Tobago', 'native-country_United-States', 'native-country_Unknown', 'native-country_Vietnam', 'native-country_Yugoslavia']\n"
          ]
        }
      ]
    },
    {
      "cell_type": "markdown",
      "source": [
        "**2. Apply Standardization (Z-Score Scaling)**\n",
        "\n",
        "* This method scales the features such that they have a mean (μ) of 0 and a standard deviation (σ) of 1. It is robust, especially after outlier capping."
      ],
      "metadata": {
        "id": "f-Ixmw1j6gv3"
      }
    },
    {
      "cell_type": "code",
      "source": [
        "scaler_std = StandardScaler()\n",
        "\n",
        "# Fit the scaler on the numeric features and transform them\n",
        "df_scaled_standard.loc[:, numeric_features_to_scale] = scaler_std.fit_transform(\n",
        "    df_scaled_standard[numeric_features_to_scale]\n",
        ")\n",
        "\n",
        "print(\"✅ Standardization complete. Sample of 'age' mean and std:\")\n",
        "print(f\"Mean (Age): {df_scaled_standard['age'].mean():.4f}\")\n",
        "print(f\"Std Dev (Age): {df_scaled_standard['age'].std():.4f}\")"
      ],
      "metadata": {
        "colab": {
          "base_uri": "https://localhost:8080/"
        },
        "id": "UdM4fe-P6kpR",
        "outputId": "2bafd76c-f0a5-49c1-a3e1-cd3829eeb01b"
      },
      "execution_count": 34,
      "outputs": [
        {
          "output_type": "stream",
          "name": "stdout",
          "text": [
            "✅ Standardization complete. Sample of 'age' mean and std:\n",
            "Mean (Age): 0.0000\n",
            "Std Dev (Age): 1.0000\n"
          ]
        }
      ]
    },
    {
      "cell_type": "markdown",
      "source": [
        "**3. Apply Min-Max Scaling**\n",
        "* This method scales the features to a fixed range, typically [0, 1]."
      ],
      "metadata": {
        "id": "8l_rfsbt6t-Z"
      }
    },
    {
      "cell_type": "code",
      "source": [
        "scaler_mm = MinMaxScaler()\n",
        "\n",
        "# Fit the scaler on the numeric features and transform them\n",
        "df_scaled_minmax.loc[:, numeric_features_to_scale] = scaler_mm.fit_transform(\n",
        "    df_scaled_minmax[numeric_features_to_scale]\n",
        ")\n",
        "\n",
        "print(\"✅ Min-Max Scaling complete. Sample of 'age' min and max:\")\n",
        "print(f\"Min (Age): {df_scaled_minmax['age'].min():.4f}\")\n",
        "print(f\"Max (Age): {df_scaled_minmax['age'].max():.4f}\")"
      ],
      "metadata": {
        "colab": {
          "base_uri": "https://localhost:8080/"
        },
        "id": "CKmrqYRk6xA9",
        "outputId": "3d009cd5-a73c-4871-988d-21e576728016"
      },
      "execution_count": 35,
      "outputs": [
        {
          "output_type": "stream",
          "name": "stdout",
          "text": [
            "✅ Min-Max Scaling complete. Sample of 'age' min and max:\n",
            "Min (Age): 0.0000\n",
            "Max (Age): 1.0000\n"
          ]
        }
      ]
    },
    {
      "cell_type": "markdown",
      "source": [
        "**4. Visualize and Compare**\n",
        "\n",
        "*Visualization helps us compare the distribution of a highly skewed feature (like capital-gain) under both methods."
      ],
      "metadata": {
        "id": "wm5q8wVY638Z"
      }
    },
    {
      "cell_type": "code",
      "source": [
        "plt.figure(figsize=(15, 5))\n",
        "\n",
        "# Plot 1: Standardized 'capital-gain'\n",
        "plt.subplot(1, 2, 1)\n",
        "sns.histplot(df_scaled_standard['capital-gain'], kde=True)\n",
        "plt.title('Standardization (Z-Score)')\n",
        "\n",
        "# Plot 2: Min-Max Scaled 'capital-gain'\n",
        "plt.subplot(1, 2, 2)\n",
        "sns.histplot(df_scaled_minmax['capital-gain'], kde=True)\n",
        "plt.title('Min-Max Scaling')\n",
        "\n",
        "plt.suptitle(\"Comparison of Scaling Methods on 'capital-gain'\")\n",
        "plt.show()"
      ],
      "metadata": {
        "colab": {
          "base_uri": "https://localhost:8080/",
          "height": 515
        },
        "id": "EMLpmtGh6634",
        "outputId": "fb4ec866-6f96-47ce-a7d2-a5a7e47524bb"
      },
      "execution_count": 36,
      "outputs": [
        {
          "output_type": "display_data",
          "data": {
            "text/plain": [
              "<Figure size 1500x500 with 2 Axes>"
            ],
            "image/png": "[encoded data removed]"
          },
          "metadata": {}
        }
      ]
    },
    {
      "cell_type": "markdown",
      "source": [
        "## Step 5. Feature Engineering ✨\n",
        "\n",
        "[Step 5. Feature Engineering- Github](https://github.com/hgabrali/Hands-on-Mini-Project-Feature-Preparation-on-the-Adult-Income-Dataset/blob/main/Step%205:%20Feature%20Engineering.md)\n",
        "\n",
        "* Create at least **two new features** that could help predict income.\n",
        "* Think about combinations, transformations, or new groupings of existing variables.\n",
        "* Explain your reasoning: why might these new features help?"
      ],
      "metadata": {
        "id": "Ejfsrz52pKst"
      }
    },
    {
      "cell_type": "markdown",
      "source": [
        "### 1. Feature 1: Capital Activity Indicator (`Has_Capital_Activity`)\n",
        "\n",
        "* **Rationale:** The original **`capital-gain`** and **`capital-loss`** columns are highly skewed (mostly zero). The most important signal is **whether or not** a person has any capital movement, regardless of the precise amount (since outliers were capped). This binary feature captures that signal cleanly.\n",
        "* **Method:** Combine the two columns into a single binary (**0 or 1**) indicator.\n"
      ],
      "metadata": {
        "id": "ev2yR6GS-Jet"
      }
    },
    {
      "cell_type": "code",
      "source": [
        "\n",
        "# If capital-gain > 0 OR capital-loss > 0, set Has_Capital_Activity = 1, else 0.\n",
        "df_adult.loc[:, 'Has_Capital_Activity'] = np.where(\n",
        "    (df_adult['capital-gain'] > 0) | (df_adult['capital-loss'] > 0), 1, 0\n",
        ")\n",
        "\n",
        "print(\"✅ 'Has_Capital_Activity' (0/1) created.\")"
      ],
      "metadata": {
        "colab": {
          "base_uri": "https://localhost:8080/"
        },
        "id": "bbEz4iqmpLJu",
        "outputId": "7196ab33-4c0b-46df-ed7c-d83f8d1f6c4a"
      },
      "execution_count": 37,
      "outputs": [
        {
          "output_type": "stream",
          "name": "stdout",
          "text": [
            "✅ 'Has_Capital_Activity' (0/1) created.\n"
          ]
        }
      ]
    },
    {
      "cell_type": "markdown",
      "source": [
        "### 2. Feature 2: Work Intensity Group (`Work_Intensity`)\n",
        "\n",
        "* **Rationale:** Income heavily depends on whether a person works **part-time, standard full-time, or overtime**. Binning the continuous **`hours-per-week`** feature into distinct intensity groups provides the model with a clear categorical signal of commitment.\n",
        "* **Method:** Bin the **`hours-per-week`** column into three meaningful categorical levels."
      ],
      "metadata": {
        "id": "wsaJJ9Eu-K9z"
      }
    },
    {
      "cell_type": "code",
      "source": [
        "# Define bin boundaries and labels\n",
        "# Assuming: Part-Time (< 35), Full-Time (35-45), Overtime (> 45)\n",
        "bins = [0, 35, 45, df_adult['hours-per-week'].max() + 1]\n",
        "labels = ['PartTime', 'FullTime_Standard', 'Overtime']\n",
        "\n",
        "print(\"\\n--- 2. Creating 'Work_Intensity' Group ---\")\n",
        "\n",
        "# Use pd.cut to create the new categorical feature\n",
        "df_adult.loc[:, 'Work_Intensity'] = pd.cut(\n",
        "    df_adult['hours-per-week'],\n",
        "    bins=bins,\n",
        "    labels=labels,\n",
        "    right=False, # Use right=False to include the left boundary (e.g., [35, 45) )\n",
        "    include_lowest=True\n",
        ").astype(str)\n",
        "\n",
        "print(\"✅ 'Work_Intensity' categorical feature created.\")"
      ],
      "metadata": {
        "colab": {
          "base_uri": "https://localhost:8080/"
        },
        "id": "Wpk1GQYY-L5A",
        "outputId": "d160d851-4dfe-4be5-d594-86c84ed072ae"
      },
      "execution_count": 38,
      "outputs": [
        {
          "output_type": "stream",
          "name": "stdout",
          "text": [
            "\n",
            "--- 2. Creating 'Work_Intensity' Group ---\n",
            "✅ 'Work_Intensity' categorical feature created.\n"
          ]
        }
      ]
    },
    {
      "cell_type": "markdown",
      "source": [
        "### Verification and Final Steps 🚀\n",
        "\n",
        "After creating these new features, you must follow these final steps:\n",
        "\n",
        "1.  **Encode the new categorical feature** (`Work_Intensity`) using **OneHotEncoder** (as done in Step 3).\n",
        "2.  **Drop the original columns** (`capital-gain`, `capital-loss`, `hours-per-week`) that were replaced or used to create the engineered features.\n",
        "3.  **Proceed to Step 6** (Model Evaluation and Final Summary)."
      ],
      "metadata": {
        "id": "Iluropax-Pe0"
      }
    },
    {
      "cell_type": "code",
      "source": [
        "# Example of encoding the new categorical feature (Work_Intensity)\n",
        "from sklearn.preprocessing import OneHotEncoder\n",
        "\n",
        "encoder = OneHotEncoder(drop='first', sparse_output=False)\n",
        "encoded_intensity = encoder.fit_transform(df_adult[['Work_Intensity']])\n",
        "encoded_intensity_df = pd.DataFrame(\n",
        "    encoded_intensity,\n",
        "    columns=encoder.get_feature_names_out(['Work_Intensity']),\n",
        "    index=df_adult.index\n",
        ")\n",
        "\n",
        "# Combine and drop\n",
        "df_adult = pd.concat([df_adult, encoded_intensity_df], axis=1)\n",
        "df_adult.drop(columns=['Work_Intensity'], inplace=True) # Drop the text version\n",
        "print(\"\\n✅ Work Intensity encoded and ready.\")"
      ],
      "metadata": {
        "colab": {
          "base_uri": "https://localhost:8080/"
        },
        "id": "bz25YM1k-Rmg",
        "outputId": "1e0e03d5-be08-4091-beca-dd19d2d7e655"
      },
      "execution_count": 39,
      "outputs": [
        {
          "output_type": "stream",
          "name": "stdout",
          "text": [
            "\n",
            "✅ Work Intensity encoded and ready.\n"
          ]
        }
      ]
    }
  ]
}